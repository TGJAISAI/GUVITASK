{
  "cells": [
    {
      "cell_type": "markdown",
      "metadata": {
        "id": "view-in-github",
        "colab_type": "text"
      },
      "source": [
        "<a href=\"https://colab.research.google.com/github/TGJAISAI/GUVITASK/blob/main/Copy_of_Numpy_tasks.ipynb\" target=\"_parent\"><img src=\"https://colab.research.google.com/assets/colab-badge.svg\" alt=\"Open In Colab\"/></a>"
      ]
    },
    {
      "cell_type": "markdown",
      "metadata": {
        "id": "xrQ7jskg0MlG"
      },
      "source": [
        "# Numpy\n",
        "\n"
      ]
    },
    {
      "cell_type": "markdown",
      "metadata": {
        "id": "jD27Vu5_0MlM"
      },
      "source": [
        "#### 1. Import the numpy package under the name `np` (★☆☆) \n",
        "(**hint**: import … as …)"
      ]
    },
    {
      "cell_type": "code",
      "execution_count": null,
      "metadata": {
        "collapsed": true,
        "id": "RmfsAU5U0MlN"
      },
      "outputs": [],
      "source": [
        "import numpy as np "
      ]
    },
    {
      "cell_type": "markdown",
      "metadata": {
        "id": "0XJSxhrU0MlO"
      },
      "source": [
        "#### 2. Print the numpy version and the configuration (★☆☆) \n",
        "(**hint**: np.\\_\\_version\\_\\_, np.show\\_config)"
      ]
    },
    {
      "cell_type": "code",
      "execution_count": null,
      "metadata": {
        "id": "mN7jSBYi0MlP",
        "outputId": "2fd1fd71-1573-4198-be9b-9d7fe87a4810",
        "colab": {
          "base_uri": "https://localhost:8080/"
        }
      },
      "outputs": [
        {
          "output_type": "stream",
          "name": "stdout",
          "text": [
            "1.21.5\n",
            "blas_mkl_info:\n",
            "  NOT AVAILABLE\n",
            "blis_info:\n",
            "  NOT AVAILABLE\n",
            "openblas_info:\n",
            "    libraries = ['openblas', 'openblas']\n",
            "    library_dirs = ['/usr/local/lib']\n",
            "    language = c\n",
            "    define_macros = [('HAVE_CBLAS', None)]\n",
            "    runtime_library_dirs = ['/usr/local/lib']\n",
            "blas_opt_info:\n",
            "    libraries = ['openblas', 'openblas']\n",
            "    library_dirs = ['/usr/local/lib']\n",
            "    language = c\n",
            "    define_macros = [('HAVE_CBLAS', None)]\n",
            "    runtime_library_dirs = ['/usr/local/lib']\n",
            "lapack_mkl_info:\n",
            "  NOT AVAILABLE\n",
            "openblas_lapack_info:\n",
            "    libraries = ['openblas', 'openblas']\n",
            "    library_dirs = ['/usr/local/lib']\n",
            "    language = c\n",
            "    define_macros = [('HAVE_CBLAS', None)]\n",
            "    runtime_library_dirs = ['/usr/local/lib']\n",
            "lapack_opt_info:\n",
            "    libraries = ['openblas', 'openblas']\n",
            "    library_dirs = ['/usr/local/lib']\n",
            "    language = c\n",
            "    define_macros = [('HAVE_CBLAS', None)]\n",
            "    runtime_library_dirs = ['/usr/local/lib']\n",
            "Supported SIMD extensions in this NumPy install:\n",
            "    baseline = SSE,SSE2,SSE3\n",
            "    found = SSSE3,SSE41,POPCNT,SSE42,AVX,F16C,FMA3,AVX2\n",
            "    not found = AVX512F,AVX512CD,AVX512_KNL,AVX512_KNM,AVX512_SKX,AVX512_CLX,AVX512_CNL,AVX512_ICL\n",
            "None\n"
          ]
        }
      ],
      "source": [
        "import numpy as np\n",
        "print(np.__version__)\n",
        "print(np.show_config())"
      ]
    },
    {
      "cell_type": "markdown",
      "metadata": {
        "id": "LZnajEj90MlP"
      },
      "source": [
        "#### 3. Create a null vector of size 10 (★☆☆) \n",
        "(**hint**: np.zeros)"
      ]
    },
    {
      "cell_type": "code",
      "execution_count": null,
      "metadata": {
        "id": "IED9h1jp0MlQ",
        "outputId": "91e9d73c-220f-434c-aa55-87d07371aa53",
        "colab": {
          "base_uri": "https://localhost:8080/"
        }
      },
      "outputs": [
        {
          "output_type": "stream",
          "name": "stdout",
          "text": [
            "[0. 0. 0. 0. 0. 0. 0. 0. 0. 0.]\n",
            "Update sixth value to 11\n",
            "[ 0.  0.  0.  0.  0.  0. 11.  0.  0.  0.]\n"
          ]
        }
      ],
      "source": [
        "import numpy as np\n",
        "x = np.zeros(10)\n",
        "print(x)\n",
        "print(\"Update sixth value to 11\")\n",
        "x[6] = 11\n",
        "print(x)"
      ]
    },
    {
      "cell_type": "markdown",
      "metadata": {
        "id": "5QoHxhz50MlR"
      },
      "source": [
        "#### 4.  How to find the memory size of any array (★☆☆) \n",
        "(**hint**: size, itemsize)"
      ]
    },
    {
      "cell_type": "code",
      "execution_count": null,
      "metadata": {
        "id": "TJbDooyc0MlR",
        "outputId": "47d8a86f-debd-4c00-ce16-6df83a6c287d",
        "colab": {
          "base_uri": "https://localhost:8080/"
        }
      },
      "outputs": [
        {
          "output_type": "stream",
          "name": "stdout",
          "text": [
            "Size of the array:  3\n",
            "Memory size of one array element in bytes:  8\n",
            "Memory size of numpy array in bytes: 24\n"
          ]
        }
      ],
      "source": [
        "import numpy as np\n",
        "\n",
        "x = np.array([100,20,34])\n",
        "\n",
        "print(\"Size of the array: \",\n",
        "\tx.size)\n",
        "\n",
        "print(\"Memory size of one array element in bytes: \",\n",
        "\tx.itemsize)\n",
        "\n",
        "\n",
        "print(\"Memory size of numpy array in bytes:\",\n",
        "\tx.size * x.itemsize)"
      ]
    },
    {
      "cell_type": "markdown",
      "metadata": {
        "id": "cyitLwGx0MlS"
      },
      "source": [
        "#### 5.  How to get the documentation of the numpy add function from the command line? (★☆☆) \n",
        "(**hint**: np.info)"
      ]
    },
    {
      "cell_type": "code",
      "execution_count": null,
      "metadata": {
        "collapsed": true,
        "id": "hLUn9Zhu0MlS"
      },
      "outputs": [],
      "source": [
        "\n",
        "import numpy as np\n",
        "\n",
        "x = np.array([100,20,34])\n",
        "\n",
        "print(\"Size of the array: \",\n",
        "\tx.size)\n",
        "\n",
        "print(\"Memory size of one array element in bytes: \",\n",
        "\tx.itemsize)\n",
        "\n",
        "\n",
        "print(\"Memory size of numpy array in bytes:\",\n",
        "\tx.size * x.itemsize)\n"
      ]
    },
    {
      "cell_type": "markdown",
      "metadata": {
        "id": "u4wc76o90MlT"
      },
      "source": [
        "#### 6.  Create a null vector of size 10 but the fifth value which is 1 (★☆☆) \n",
        "(**hint**: array\\[4\\])"
      ]
    },
    {
      "cell_type": "code",
      "execution_count": 1,
      "metadata": {
        "id": "koKWD0Df0MlU",
        "outputId": "172a8767-c579-4079-ae4b-152e47283ddc",
        "colab": {
          "base_uri": "https://localhost:8080/",
          "height": 130
        }
      },
      "outputs": [
        {
          "output_type": "error",
          "ename": "SyntaxError",
          "evalue": "ignored",
          "traceback": [
            "\u001b[0;36m  File \u001b[0;32m\"<ipython-input-1-6b12ffb01d38>\"\u001b[0;36m, line \u001b[0;32m2\u001b[0m\n\u001b[0;31m    array=([False, False, False, False,  True, False, False, False, False, False], dtype=bool)\u001b[0m\n\u001b[0m                                                                                        ^\u001b[0m\n\u001b[0;31mSyntaxError\u001b[0m\u001b[0;31m:\u001b[0m invalid syntax\n"
          ]
        }
      ],
      "source": [
        "np.arange(10) == 4\n",
        "array=([False, False, False, False,  True, False, False, False, False, False], dtype=bool)\n",
        "np.arange(10) * 1\n",
        "array=([0, 0, 0, 0, 1, 0, 0, 0, 0, 0])\n",
        "np.arange(10) + 23\n",
        "array=([23, 23, 23, 23, 24, 23, 23, 23, 23, 23])"
      ]
    },
    {
      "cell_type": "markdown",
      "metadata": {
        "id": "sBxY2dAw0MlU"
      },
      "source": [
        "#### 7.  Create a vector with values ranging from 10 to 49 (★☆☆) \n",
        "(**hint**: np.arange)"
      ]
    },
    {
      "cell_type": "code",
      "execution_count": null,
      "metadata": {
        "id": "bbAHHzsN0MlV",
        "outputId": "11393978-0cc7-4c5c-8e57-c0d7af69d19c",
        "colab": {
          "base_uri": "https://localhost:8080/"
        }
      },
      "outputs": [
        {
          "output_type": "execute_result",
          "data": {
            "text/plain": [
              "array([10, 11, 12, 13, 14, 15, 16, 17, 18, 19, 20, 21, 22, 23, 24, 25, 26,\n",
              "       27, 28, 29, 30, 31, 32, 33, 34, 35, 36, 37, 38, 39, 40, 41, 42, 43,\n",
              "       44, 45, 46, 47, 48])"
            ]
          },
          "metadata": {},
          "execution_count": 7
        }
      ],
      "source": [
        "import numpy as np \n",
        "\n",
        "arr = np.arange(10,49)\n",
        "arr"
      ]
    },
    {
      "cell_type": "markdown",
      "metadata": {
        "id": "kJKEn-EZ0MlV"
      },
      "source": [
        "#### 8.  Reverse a vector (first element becomes last) (★☆☆) \n",
        "(**hint**: array\\[::-1\\])"
      ]
    },
    {
      "cell_type": "code",
      "execution_count": null,
      "metadata": {
        "id": "bylgGxmr0MlW",
        "outputId": "73ec952a-a9bb-46ac-c4d0-dab1167a1878",
        "colab": {
          "base_uri": "https://localhost:8080/"
        }
      },
      "outputs": [
        {
          "output_type": "stream",
          "name": "stdout",
          "text": [
            "Original array:\n",
            "[12 13 14 15 16 17 18 19 20 21 22 23 24 25 26 27 28 29 30 31 32 33 34 35\n",
            " 36 37]\n",
            "Reverse array:\n",
            "[37 36 35 34 33 32 31 30 29 28 27 26 25 24 23 22 21 20 19 18 17 16 15 14\n",
            " 13 12]\n"
          ]
        }
      ],
      "source": [
        "import numpy as np\n",
        "import numpy as np\n",
        "x = np.arange(12, 38)\n",
        "print(\"Original array:\")\n",
        "print(x)\n",
        "print(\"Reverse array:\")\n",
        "x = x[::-1]\n",
        "print(x)"
      ]
    },
    {
      "cell_type": "markdown",
      "metadata": {
        "id": "rOboxSUK0MlW"
      },
      "source": [
        "#### 9.  Create a 3x3 matrix with values ranging from 0 to 8 (★☆☆) \n",
        "(**hint**: reshape)"
      ]
    },
    {
      "cell_type": "code",
      "execution_count": null,
      "metadata": {
        "id": "PaK-OHNy0MlW",
        "outputId": "cd422a45-5b90-4a83-85b8-d8bcb5021d14",
        "colab": {
          "base_uri": "https://localhost:8080/"
        }
      },
      "outputs": [
        {
          "output_type": "stream",
          "name": "stdout",
          "text": [
            "[[ 2  3  4]\n",
            " [ 5  6  7]\n",
            " [ 8  9 10]]\n"
          ]
        }
      ],
      "source": [
        "import numpy as np\n",
        "x =  np.arange(2, 11).reshape(3,3)\n",
        "print(x)"
      ]
    },
    {
      "cell_type": "markdown",
      "metadata": {
        "id": "srwl95TX0MlX"
      },
      "source": [
        "#### 10. Find indices of non-zero elements from \\[1,2,0,0,4,0\\] (★☆☆) \n",
        "(**hint**: np.nonzero)"
      ]
    },
    {
      "cell_type": "code",
      "execution_count": null,
      "metadata": {
        "id": "swIkmQ8N0MlX",
        "outputId": "c1299741-2449-4137-8518-719ae1d5fda7",
        "colab": {
          "base_uri": "https://localhost:8080/"
        }
      },
      "outputs": [
        {
          "output_type": "stream",
          "name": "stdout",
          "text": [
            "Input  array : \n",
            " [[ 0  8  0]\n",
            " [ 7  0  0]\n",
            " [-5  0  1]]\n",
            "Indices of non zero elements :  (array([0, 1, 2, 2]), array([1, 0, 0, 2]))\n"
          ]
        }
      ],
      "source": [
        "\n",
        "\n",
        "  \n",
        "import numpy as np\n",
        "arr = np.array([[0, 8, 0], [7, 0, 0], [-5, 0, 1]])\n",
        "  \n",
        "print (\"Input  array : \\n\", arr)\n",
        "    \n",
        "out_tpl = np.nonzero(arr)\n",
        "print (\"Indices of non zero elements : \", out_tpl) "
      ]
    },
    {
      "cell_type": "markdown",
      "metadata": {
        "id": "O6Vlpbtw0MlX"
      },
      "source": [
        "#### 11. Create a 3x3 identity matrix (★☆☆) \n",
        "(**hint**: np.eye)"
      ]
    },
    {
      "cell_type": "code",
      "execution_count": null,
      "metadata": {
        "id": "OD4ivz2W0MlY",
        "outputId": "b056abec-6ed5-42cc-caeb-2b906a6bc0dc",
        "colab": {
          "base_uri": "https://localhost:8080/"
        }
      },
      "outputs": [
        {
          "output_type": "stream",
          "name": "stdout",
          "text": [
            "3x3 matrix:\n",
            "[[1. 0. 0.]\n",
            " [0. 1. 0.]\n",
            " [0. 0. 1.]]\n"
          ]
        }
      ],
      "source": [
        "import numpy as np\n",
        "array_2D=np.identity(3)\n",
        "print('3x3 matrix:')\n",
        "print(array_2D)"
      ]
    },
    {
      "cell_type": "markdown",
      "metadata": {
        "id": "ZUwyESxU0MlY"
      },
      "source": [
        "#### 12. Create a 3x3x3 array with random values (★☆☆) \n",
        "(**hint**: np.random.random)"
      ]
    },
    {
      "cell_type": "code",
      "execution_count": null,
      "metadata": {
        "collapsed": true,
        "id": "KdoGdUvR0MlY",
        "outputId": "ef7d02cf-cc2f-4126-acdc-453beb4096d8",
        "colab": {
          "base_uri": "https://localhost:8080/"
        }
      },
      "outputs": [
        {
          "output_type": "stream",
          "name": "stdout",
          "text": [
            "[[[2.85310302e-01 4.07819811e-01 4.82537688e-01]\n",
            "  [8.59792059e-01 4.42829091e-01 2.57401014e-01]\n",
            "  [8.20264130e-03 2.26932509e-02 4.63669351e-01]]\n",
            "\n",
            " [[4.89929789e-02 5.89104235e-01 2.45499569e-01]\n",
            "  [6.66424105e-01 6.34881508e-01 6.37405434e-01]\n",
            "  [5.57394206e-01 9.87402590e-01 3.57847303e-01]]\n",
            "\n",
            " [[7.59579185e-01 2.21053040e-01 5.68756736e-02]\n",
            "  [6.60945056e-01 8.79709912e-02 1.17106837e-01]\n",
            "  [9.66715382e-01 6.25596700e-04 8.10285633e-01]]]\n"
          ]
        }
      ],
      "source": [
        "import numpy as np\n",
        "x = np.random.random((3,3,3))\n",
        "print(x)"
      ]
    },
    {
      "cell_type": "markdown",
      "metadata": {
        "id": "4U-LTjJL0MlY"
      },
      "source": [
        "#### 13. Create a 10x10 array with random values and find the minimum and maximum values (★☆☆) \n",
        "(**hint**: min, max)"
      ]
    },
    {
      "cell_type": "code",
      "execution_count": null,
      "metadata": {
        "id": "rj6g0qB50MlY",
        "outputId": "d2602c5e-de6e-4859-9417-0add1c437b87",
        "colab": {
          "base_uri": "https://localhost:8080/"
        }
      },
      "outputs": [
        {
          "output_type": "stream",
          "name": "stdout",
          "text": [
            "Original Array:\n",
            "[[0.69050057 0.87233861 0.33209845 0.4771261  0.40774704]\n",
            " [0.30604589 0.61569234 0.44485452 0.44677834 0.19762212]\n",
            " [0.86181484 0.37539081 0.37524563 0.84891149 0.42593815]\n",
            " [0.02650412 0.002658   0.44757965 0.29892749 0.18283443]\n",
            " [0.85728794 0.45317848 0.11584065 0.59330998 0.79770005]]\n",
            "Minimum and Maximum Values:\n",
            "0.0026580021246428442 0.8723386079750846\n"
          ]
        }
      ],
      "source": [
        "import numpy as np\n",
        "x = np.random.random((5,5))\n",
        "print(\"Original Array:\")\n",
        "print(x) \n",
        "xmin, xmax = x.min(), x.max()\n",
        "print(\"Minimum and Maximum Values:\")\n",
        "print(xmin, xmax)"
      ]
    },
    {
      "cell_type": "markdown",
      "metadata": {
        "id": "2hLnLz3Y0MlZ"
      },
      "source": [
        "#### 14. Create a random vector of size 30 and find the mean value (★☆☆) \n",
        "(**hint**: mean)"
      ]
    },
    {
      "cell_type": "code",
      "execution_count": null,
      "metadata": {
        "id": "Lo-oqoSm0MlZ",
        "outputId": "b0513304-b962-4f33-ffb6-1a8c2a81c434",
        "colab": {
          "base_uri": "https://localhost:8080/"
        }
      },
      "outputs": [
        {
          "output_type": "stream",
          "name": "stdout",
          "text": [
            "Original array:\n",
            "[0.35821033 0.36893017 0.5687895  0.00141742 0.43508669 0.27646141\n",
            " 0.63834466 0.77407861 0.87363981 0.01683724 0.45552411 0.30089681\n",
            " 0.8703079  0.08412922 0.6887658  0.41443395 0.20268532 0.17160599\n",
            " 0.41117635 0.57873745 0.82996107 0.00413381 0.45213072 0.88275125\n",
            " 0.1320152  0.41800271 0.26644943 0.13943091 0.41766    0.58670311]\n",
            "Sorted array:\n",
            "[0.00141742 0.00413381 0.01683724 0.08412922 0.1320152  0.13943091\n",
            " 0.17160599 0.20268532 0.26644943 0.27646141 0.30089681 0.35821033\n",
            " 0.36893017 0.41117635 0.41443395 0.41766    0.41800271 0.43508669\n",
            " 0.45213072 0.45552411 0.5687895  0.57873745 0.58670311 0.63834466\n",
            " 0.6887658  0.77407861 0.82996107 0.8703079  0.87363981 0.88275125]\n"
          ]
        }
      ],
      "source": [
        "import numpy as np\n",
        "x = np.random.random(30)\n",
        "print(\"Original array:\")\n",
        "print(x)\n",
        "x.sort()\n",
        "print(\"Sorted array:\")\n",
        "print(x)"
      ]
    },
    {
      "cell_type": "markdown",
      "metadata": {
        "id": "Ai6UQTTW0MlZ"
      },
      "source": [
        "#### 15. Create a 2d array with 1 on the border and 0 inside (★☆☆) \n",
        "(**hint**: array\\[1:-1, 1:-1\\])"
      ]
    },
    {
      "cell_type": "code",
      "execution_count": null,
      "metadata": {
        "id": "2d0zEezf0MlZ",
        "colab": {
          "base_uri": "https://localhost:8080/"
        },
        "outputId": "c6cf66bb-3b9f-460c-fa64-9535c65334e1"
      },
      "outputs": [
        {
          "output_type": "stream",
          "name": "stdout",
          "text": [
            "Original array:\n",
            "[[1. 1. 1. 1. 1.]\n",
            " [1. 1. 1. 1. 1.]\n",
            " [1. 1. 1. 1. 1.]\n",
            " [1. 1. 1. 1. 1.]\n",
            " [1. 1. 1. 1. 1.]]\n",
            "1 on the border and 0 inside in the array\n",
            "[[1. 1. 1. 1. 1.]\n",
            " [1. 0. 0. 0. 1.]\n",
            " [1. 0. 0. 0. 1.]\n",
            " [1. 0. 0. 0. 1.]\n",
            " [1. 1. 1. 1. 1.]]\n"
          ]
        }
      ],
      "source": [
        "import numpy as np\n",
        "x = np.ones((5,5))\n",
        "print(\"Original array:\")\n",
        "print(x)\n",
        "print(\"1 on the border and 0 inside in the array\")\n",
        "x[1:-1,1:-1] = 0\n",
        "print(x)"
      ]
    },
    {
      "cell_type": "markdown",
      "metadata": {
        "id": "E-LLebpq0MlZ"
      },
      "source": [
        "#### 16. How to add a border (filled with 0's) around an existing array? (★☆☆) \n",
        "(**hint**: np.pad)"
      ]
    },
    {
      "cell_type": "code",
      "execution_count": null,
      "metadata": {
        "id": "gUYrK_XH0Mla",
        "colab": {
          "base_uri": "https://localhost:8080/"
        },
        "outputId": "cb3e7c0a-a56c-4001-fec6-a748ec9266e8"
      },
      "outputs": [
        {
          "output_type": "execute_result",
          "data": {
            "text/plain": [
              "(array([[0.79751867, 0.81351044, 0.97517772, 0.05860087, 0.81757847],\n",
              "        [0.18557386, 0.51312586, 0.309305  , 0.29144479, 0.27607931],\n",
              "        [0.76316675, 0.45905028, 0.52342752, 0.5117375 , 0.50957623],\n",
              "        [0.43687952, 0.21635961, 0.24336204, 0.78379884, 0.60776908]]),\n",
              " array([[0.        , 0.        , 0.        , 0.        , 0.        ,\n",
              "         0.        , 0.        ],\n",
              "        [0.        , 0.79751867, 0.81351044, 0.97517772, 0.05860087,\n",
              "         0.81757847, 0.        ],\n",
              "        [0.        , 0.18557386, 0.51312586, 0.309305  , 0.29144479,\n",
              "         0.27607931, 0.        ],\n",
              "        [0.        , 0.76316675, 0.45905028, 0.52342752, 0.5117375 ,\n",
              "         0.50957623, 0.        ],\n",
              "        [0.        , 0.43687952, 0.21635961, 0.24336204, 0.78379884,\n",
              "         0.60776908, 0.        ],\n",
              "        [0.        , 0.        , 0.        , 0.        , 0.        ,\n",
              "         0.        , 0.        ]]))"
            ]
          },
          "metadata": {},
          "execution_count": 3
        }
      ],
      "source": [
        "a = np.random.random((4, 5))\n",
        "m, n = a.shape\n",
        "b = np.zeros((m+1, n+1))\n",
        "b = np.pad(a, 1)\n",
        "a,b"
      ]
    },
    {
      "cell_type": "markdown",
      "metadata": {
        "id": "-EldckFz0Mlb"
      },
      "source": [
        "#### 17. What is the result of the following expression? (★☆☆) \n",
        "(**hint**: NaN = not a number, inf = infinity)"
      ]
    },
    {
      "cell_type": "markdown",
      "metadata": {
        "id": "Da6C6boa0Mlc"
      },
      "source": [
        "```python\n",
        "0 * np.nan\n",
        "np.nan == np.nan\n",
        "np.inf > np.nan\n",
        "np.nan - np.nan\n",
        "0.3 == 3 * 0.1\n",
        "```"
      ]
    },
    {
      "cell_type": "code",
      "execution_count": null,
      "metadata": {
        "id": "hi6jHKY80Mlc"
      },
      "outputs": [],
      "source": [
        ""
      ]
    },
    {
      "cell_type": "markdown",
      "metadata": {
        "id": "RirhJhHR0Mlc"
      },
      "source": [
        "#### 18. Create a 5x5 matrix with values 1,2,3,4 just below the diagonal (★☆☆) \n",
        "(**hint**: np.diag)"
      ]
    },
    {
      "cell_type": "code",
      "execution_count": null,
      "metadata": {
        "id": "h_NKKNRp0Mld",
        "colab": {
          "base_uri": "https://localhost:8080/"
        },
        "outputId": "9e02363a-f658-4829-ad8c-f16cdc2cbc97"
      },
      "outputs": [
        {
          "output_type": "stream",
          "name": "stdout",
          "text": [
            "[[1 0 0 0 0]\n",
            " [0 2 0 0 0]\n",
            " [0 0 3 0 0]\n",
            " [0 0 0 4 0]\n",
            " [0 0 0 0 5]]\n"
          ]
        }
      ],
      "source": [
        "import numpy as np\n",
        "x = np.diag([1, 2, 3, 4, 5])\n",
        "print(x)"
      ]
    },
    {
      "cell_type": "markdown",
      "metadata": {
        "id": "ioiOG3ZD0Mld"
      },
      "source": [
        "#### 19. Create a 8x8 matrix and fill it with a checkerboard pattern (★☆☆) \n",
        "(**hint**: array\\[::2\\])"
      ]
    },
    {
      "cell_type": "code",
      "execution_count": null,
      "metadata": {
        "id": "y_SM4gt_0Mle",
        "colab": {
          "base_uri": "https://localhost:8080/"
        },
        "outputId": "7e35c5b5-fccb-4947-fd57-eaf58b9b10db"
      },
      "outputs": [
        {
          "output_type": "stream",
          "name": "stdout",
          "text": [
            "Checkerboard pattern:\n",
            "[[0 1 0 1 0 1 0 1]\n",
            " [1 0 1 0 1 0 1 0]\n",
            " [0 1 0 1 0 1 0 1]\n",
            " [1 0 1 0 1 0 1 0]\n",
            " [0 1 0 1 0 1 0 1]\n",
            " [1 0 1 0 1 0 1 0]\n",
            " [0 1 0 1 0 1 0 1]\n",
            " [1 0 1 0 1 0 1 0]]\n"
          ]
        }
      ],
      "source": [
        "import numpy as np\n",
        "x = np.ones((3,3))\n",
        "print(\"Checkerboard pattern:\")\n",
        "x = np.zeros((8,8),dtype=int)\n",
        "x[1::2,::2] = 1\n",
        "x[::2,1::2] = 1\n",
        "print(x)"
      ]
    },
    {
      "cell_type": "markdown",
      "metadata": {
        "id": "_jc1MWOk0Mle"
      },
      "source": [
        "#### 20. Consider a (6,7,8) shape array, what is the index (x,y,z) of the 100th element? \n",
        "(**hint**: np.unravel_index)"
      ]
    },
    {
      "cell_type": "code",
      "execution_count": null,
      "metadata": {
        "id": "FMbIjQc60Mle"
      },
      "outputs": [],
      "source": [
        ""
      ]
    },
    {
      "cell_type": "markdown",
      "metadata": {
        "id": "HoH5KKqe0Mlf"
      },
      "source": [
        "#### 21. Create a checkerboard 8x8 matrix using the tile function (★☆☆) \n",
        "(**hint**: np.tile)"
      ]
    },
    {
      "cell_type": "code",
      "execution_count": null,
      "metadata": {
        "id": "OYqVBm4V0Mlf",
        "colab": {
          "base_uri": "https://localhost:8080/"
        },
        "outputId": "a2b52595-ebe7-4dd2-9cfb-67f80927a181"
      },
      "outputs": [
        {
          "output_type": "stream",
          "name": "stdout",
          "text": [
            "Checkerboard pattern:\n",
            "[[0 1 0 1 0 1 0 1]\n",
            " [1 0 1 0 1 0 1 0]\n",
            " [0 1 0 1 0 1 0 1]\n",
            " [1 0 1 0 1 0 1 0]\n",
            " [0 1 0 1 0 1 0 1]\n",
            " [1 0 1 0 1 0 1 0]\n",
            " [0 1 0 1 0 1 0 1]\n",
            " [1 0 1 0 1 0 1 0]]\n"
          ]
        }
      ],
      "source": [
        "import numpy as np\n",
        "x = np.ones((3,3))\n",
        "print(\"Checkerboard pattern:\")\n",
        "x = np.zeros((8,8),dtype=int)\n",
        "x[1::2,::2] = 1\n",
        "x[::2,1::2] = 1\n",
        "print(x)"
      ]
    },
    {
      "cell_type": "markdown",
      "metadata": {
        "id": "0ghUUnR00Mlf"
      },
      "source": [
        "#### 22. Normalize a 5x5 random matrix (★☆☆) \n",
        "(**hint**: (x - min) / (max - min))"
      ]
    },
    {
      "cell_type": "code",
      "execution_count": null,
      "metadata": {
        "id": "QhMFma7e0Mlf",
        "colab": {
          "base_uri": "https://localhost:8080/"
        },
        "outputId": "e5871789-071f-496d-fb03-5c158921ac3f"
      },
      "outputs": [
        {
          "output_type": "stream",
          "name": "stdout",
          "text": [
            "Original Array:\n",
            "[[0.10381594 0.703855   0.8476356 ]\n",
            " [0.50500472 0.66158254 0.43553279]\n",
            " [0.79048154 0.02520352 0.15458942]]\n",
            "After normalization:\n",
            "[[0.09558531 0.82517632 1.        ]\n",
            " [0.5833931  0.77377699 0.49892176]\n",
            " [0.93050604 0.         0.15732108]]\n"
          ]
        }
      ],
      "source": [
        "import numpy as np\n",
        "x= np.random.random((3,3))\n",
        "print(\"Original Array:\")\n",
        "print(x)\n",
        "xmax, xmin = x.max(), x.min()\n",
        "x = (x - xmin)/(xmax - xmin)\n",
        "print(\"After normalization:\")\n",
        "print(x)"
      ]
    },
    {
      "cell_type": "markdown",
      "metadata": {
        "id": "CVCc_g9h0Mlf"
      },
      "source": [
        "#### 23. Create a custom dtype that describes a color as four unsigned bytes (RGBA) (★☆☆) \n",
        "(**hint**: np.dtype)"
      ]
    },
    {
      "cell_type": "code",
      "execution_count": null,
      "metadata": {
        "collapsed": true,
        "id": "4K7alPtH0Mlf"
      },
      "outputs": [],
      "source": [
        ""
      ]
    },
    {
      "cell_type": "markdown",
      "metadata": {
        "id": "qT6ZSUgI0Mlg"
      },
      "source": [
        "#### 24. Multiply a 5x3 matrix by a 3x2 matrix (real matrix product) (★☆☆) \n",
        "(**hint**: np.dot | @)"
      ]
    },
    {
      "cell_type": "code",
      "execution_count": null,
      "metadata": {
        "id": "5U6bcSyI0Mlg",
        "colab": {
          "base_uri": "https://localhost:8080/"
        },
        "outputId": "3f8c8d66-b70a-4b44-f4a4-189810559c59"
      },
      "outputs": [
        {
          "output_type": "stream",
          "name": "stdout",
          "text": [
            "First array:\n",
            "[[0.58570101 0.64761906 0.46397237]\n",
            " [0.48824628 0.73193027 0.44551249]\n",
            " [0.9277424  0.58555875 0.57904822]\n",
            " [0.68617948 0.23204647 0.9936316 ]\n",
            " [0.55726093 0.73984067 0.02361192]]\n",
            "Second array:\n",
            "[[0.73688847 0.43155944]\n",
            " [0.71849403 0.7939189 ]\n",
            " [0.57211102 0.54391372]]\n",
            "Dot product of two arrays:\n",
            "[[1.16235045 1.01928275]\n",
            " [1.14055319 1.03412092]\n",
            " [1.43564301 1.18021442]\n",
            " [1.24082935 1.02080318]\n",
            " [0.95571889 0.84070755]]\n"
          ]
        }
      ],
      "source": [
        "import numpy as np\n",
        "x = np.random.random((5,3))\n",
        "print(\"First array:\")\n",
        "print(x)\n",
        "y = np.random.random((3,2))\n",
        "print(\"Second array:\")\n",
        "print(y)\n",
        "z = np.dot(x, y)\n",
        "print(\"Dot product of two arrays:\")\n",
        "print(z)"
      ]
    },
    {
      "cell_type": "markdown",
      "metadata": {
        "id": "r9-n7Wbz0Mlg"
      },
      "source": [
        "#### 25. Given a 1D array, negate all elements which are between 3 and 8, in place. (★☆☆) \n",
        "(**hint**: >, <=)"
      ]
    },
    {
      "cell_type": "code",
      "execution_count": null,
      "metadata": {
        "id": "7qiml-8u0Mlg",
        "colab": {
          "base_uri": "https://localhost:8080/"
        },
        "outputId": "f649a9dd-af99-41ef-d5ec-6f044a7d639a"
      },
      "outputs": [
        {
          "output_type": "execute_result",
          "data": {
            "text/plain": [
              "array([ 0,  1,  2, -3, -4, -5, -6, -7,  8,  9, 10])"
            ]
          },
          "metadata": {},
          "execution_count": 10
        }
      ],
      "source": [
        "import numpy as np\n",
        "\n",
        "arr=np.arange(11)\n",
        "m = (arr > 2) & (arr < 8)\n",
        "arr[m] *= -1\n",
        "arr"
      ]
    },
    {
      "cell_type": "markdown",
      "metadata": {
        "id": "9QYhJ11w0Mlg"
      },
      "source": [
        "#### 26. What is the output of the following script? (★☆☆) \n",
        "(**hint**: np.sum)"
      ]
    },
    {
      "cell_type": "markdown",
      "metadata": {
        "id": "zrhaa4cX0Mlh"
      },
      "source": [
        "```python\n",
        "# Author: Jake VanderPlas\n",
        "\n",
        "print(sum(range(5),-1))\n",
        "from numpy import *\n",
        "print(sum(range(5),-1))\n",
        "```"
      ]
    },
    {
      "cell_type": "code",
      "execution_count": null,
      "metadata": {
        "id": "a9yUAUmN0Mlh"
      },
      "outputs": [],
      "source": [
        ""
      ]
    },
    {
      "cell_type": "markdown",
      "metadata": {
        "id": "KPNxoGeJ0Mlh"
      },
      "source": [
        "#### 27. Consider an integer vector Z, which of these expressions are legal? (★☆☆)"
      ]
    },
    {
      "cell_type": "markdown",
      "metadata": {
        "id": "81kkDeZj0Mlh"
      },
      "source": [
        "```python\n",
        "Z**Z\n",
        "2 << Z >> 2\n",
        "Z <- Z\n",
        "1j*Z\n",
        "Z/1/1\n",
        "Z<Z>Z\n",
        "```"
      ]
    },
    {
      "cell_type": "code",
      "execution_count": null,
      "metadata": {
        "id": "2r470mS30Mlh"
      },
      "outputs": [],
      "source": [
        ""
      ]
    },
    {
      "cell_type": "markdown",
      "metadata": {
        "id": "dzuVN0er0Mlh"
      },
      "source": [
        "#### 28. What are the result of the following expressions?"
      ]
    },
    {
      "cell_type": "markdown",
      "metadata": {
        "id": "yjICHKHo0Mlh"
      },
      "source": [
        "```python\n",
        "np.array(0) / np.array(0)\n",
        "np.array(0) // np.array(0)\n",
        "np.array([np.nan]).astype(int).astype(float)\n",
        "```"
      ]
    },
    {
      "cell_type": "code",
      "execution_count": null,
      "metadata": {
        "id": "jvxSkYSm0Mli",
        "colab": {
          "base_uri": "https://localhost:8080/"
        },
        "outputId": "40f2e63c-bdf6-4ea4-fdeb-597910f7303d"
      },
      "outputs": [
        {
          "output_type": "stream",
          "name": "stderr",
          "text": [
            "/usr/local/lib/python3.7/dist-packages/ipykernel_launcher.py:2: RuntimeWarning: invalid value encountered in true_divide\n",
            "  \n",
            "/usr/local/lib/python3.7/dist-packages/ipykernel_launcher.py:3: RuntimeWarning: divide by zero encountered in floor_divide\n",
            "  This is separate from the ipykernel package so we can avoid doing imports until\n"
          ]
        },
        {
          "output_type": "execute_result",
          "data": {
            "text/plain": [
              "array([-9.22337204e+18])"
            ]
          },
          "metadata": {},
          "execution_count": 12
        }
      ],
      "source": [
        "import numpy as np\n",
        "np.array(0) / np.array(0)\n",
        "np.array(0) // np.array(0)\n",
        "np.array([np.nan]).astype(int).astype(float)"
      ]
    },
    {
      "cell_type": "markdown",
      "metadata": {
        "id": "TTc-lGn80Mli"
      },
      "source": [
        "#### 29. How to round away from zero a float array ? (★☆☆) \n",
        "(**hint**: np.uniform, np.copysign, np.ceil, np.abs)"
      ]
    },
    {
      "cell_type": "code",
      "execution_count": null,
      "metadata": {
        "id": "PRxpl7Jo0Mli",
        "colab": {
          "base_uri": "https://localhost:8080/"
        },
        "outputId": "0bbc8550-f384-4612-d3e2-ae0475a1122c"
      },
      "outputs": [
        {
          "output_type": "stream",
          "name": "stdout",
          "text": [
            "[32. 52.  0.]\n"
          ]
        }
      ],
      "source": [
        "import numpy as np\n",
        "\n",
        "def round_array(x,y):\n",
        "    return np.round(x,y)\n",
        "\n",
        "test = np.array([32.11, 51.5, 0.112])\n",
        "print(round_array(test,0))"
      ]
    },
    {
      "cell_type": "markdown",
      "metadata": {
        "id": "xxCFyFta0Mli"
      },
      "source": [
        "#### 30. How to find common values between two arrays? (★☆☆) \n",
        "(**hint**: np.intersect1d)"
      ]
    },
    {
      "cell_type": "code",
      "execution_count": null,
      "metadata": {
        "id": "tu_viSxU0Mli",
        "colab": {
          "base_uri": "https://localhost:8080/"
        },
        "outputId": "6a6fef69-d0b4-4f07-d4a6-fb761885d00c"
      },
      "outputs": [
        {
          "output_type": "stream",
          "name": "stdout",
          "text": [
            "[1 3 4]\n"
          ]
        }
      ],
      "source": [
        "import numpy as np\n",
        "\n",
        "\n",
        "ar1 = np.array([0, 1, 2, 3, 4])\n",
        "ar2 = [1, 3, 4]\n",
        "\n",
        "\n",
        "print(np.intersect1d(ar1, ar2))\n"
      ]
    },
    {
      "cell_type": "markdown",
      "metadata": {
        "id": "9NvfQu0B0Mli"
      },
      "source": [
        "#### 31. How to ignore all numpy warnings (not recommended)? (★☆☆) \n",
        "(**hint**: np.seterr, np.errstate)"
      ]
    },
    {
      "cell_type": "code",
      "execution_count": null,
      "metadata": {
        "id": "PoVsR3gr0Mlj"
      },
      "outputs": [],
      "source": [
        "olderr = np.seterr(all='ignore')"
      ]
    },
    {
      "cell_type": "markdown",
      "metadata": {
        "id": "kqinYioN0Mlj"
      },
      "source": [
        "#### 32. Is the following expressions true? (★☆☆) \n",
        "(**hint**: imaginary number)"
      ]
    },
    {
      "cell_type": "markdown",
      "metadata": {
        "id": "Glha8_Mt0Mlj"
      },
      "source": [
        "```python\n",
        "np.sqrt(-1) == np.emath.sqrt(-1)\n",
        "```"
      ]
    },
    {
      "cell_type": "code",
      "execution_count": null,
      "metadata": {
        "id": "RHZmQIjZ0Mlj",
        "colab": {
          "base_uri": "https://localhost:8080/"
        },
        "outputId": "6b761557-170e-4c9f-a2b6-424587d50f6c"
      },
      "outputs": [
        {
          "output_type": "execute_result",
          "data": {
            "text/plain": [
              "True"
            ]
          },
          "metadata": {},
          "execution_count": 16
        }
      ],
      "source": [
        "import math\n",
        "np.emath.log(-math.exp(1)) == (1+1j*math.pi)"
      ]
    },
    {
      "cell_type": "markdown",
      "metadata": {
        "id": "k0iBgdlU0Mlk"
      },
      "source": [
        "#### 33. How to get the dates of yesterday, today and tomorrow? (★☆☆) \n",
        "(**hint**: np.datetime64, np.timedelta64)"
      ]
    },
    {
      "cell_type": "code",
      "execution_count": 2,
      "metadata": {
        "collapsed": true,
        "id": "AsTV4PVq0Mlk",
        "colab": {
          "base_uri": "https://localhost:8080/"
        },
        "outputId": "68b13b97-587f-4b5b-f545-67b7789d8d92"
      },
      "outputs": [
        {
          "output_type": "stream",
          "name": "stdout",
          "text": [
            "Today:  2022-04-09\n",
            "Yestraday:  2022-04-09\n",
            "Tomorrow:  2022-04-09\n"
          ]
        }
      ],
      "source": [
        "\n",
        "import numpy as np\n",
        "  \n",
        "\n",
        "today = np.datetime64('today', 'D')\n",
        "print(\"Today: \", today)\n",
        "  \n",
        "\n",
        "yesterday = np.datetime64('today', 'D')\n",
        "- np.timedelta64(1, 'D')\n",
        "  \n",
        "print(\"Yestraday: \", yesterday)\n",
        "  \n",
        "\n",
        "tomorrow = np.datetime64('today', 'D')\n",
        "+ np.timedelta64(1, 'D')\n",
        "  \n",
        "print(\"Tomorrow: \", tomorrow)"
      ]
    },
    {
      "cell_type": "markdown",
      "metadata": {
        "id": "HAl-bTSx0Mlk"
      },
      "source": [
        "#### 34. How to get all the dates corresponding to the month of July 2016? (★★☆) \n",
        "(**hint**: np.arange(dtype=datetime64\\['D'\\]))"
      ]
    },
    {
      "cell_type": "code",
      "execution_count": 3,
      "metadata": {
        "id": "RCHV1fIw0Mlk",
        "colab": {
          "base_uri": "https://localhost:8080/"
        },
        "outputId": "050e0566-0f1c-4f48-d2c7-cf739b1de56b"
      },
      "outputs": [
        {
          "output_type": "stream",
          "name": "stdout",
          "text": [
            "March, 2016\n",
            "['2016-03-01' '2016-03-02' '2016-03-03' '2016-03-04' '2016-03-05'\n",
            " '2016-03-06' '2016-03-07' '2016-03-08' '2016-03-09' '2016-03-10'\n",
            " '2016-03-11' '2016-03-12' '2016-03-13' '2016-03-14' '2016-03-15'\n",
            " '2016-03-16' '2016-03-17' '2016-03-18' '2016-03-19' '2016-03-20'\n",
            " '2016-03-21' '2016-03-22' '2016-03-23' '2016-03-24' '2016-03-25'\n",
            " '2016-03-26' '2016-03-27' '2016-03-28' '2016-03-29' '2016-03-30'\n",
            " '2016-03-31']\n"
          ]
        }
      ],
      "source": [
        "import numpy as np\n",
        "print(\"March, 2016\")\n",
        "print(np.arange('2016-03', '2016-04', dtype='datetime64[D]'))"
      ]
    },
    {
      "cell_type": "markdown",
      "metadata": {
        "id": "wO3pAX8l0Mlk"
      },
      "source": [
        "#### 35. How to compute ((A+B)\\*(-A/2)) in place (without copy)? (★★☆) \n",
        "(**hint**: np.add(out=), np.negative(out=), np.multiply(out=), np.divide(out=))"
      ]
    },
    {
      "cell_type": "markdown",
      "metadata": {
        "id": "92y7ZtJ00Mlk"
      },
      "source": [
        "#### 36. Extract the integer part of a random array using 5 different methods (★★☆) \n",
        "(**hint**: %, np.floor, np.ceil, astype, np.trunc)"
      ]
    },
    {
      "cell_type": "code",
      "execution_count": null,
      "metadata": {
        "id": "gFLa9FwE0Mlk"
      },
      "outputs": [],
      "source": [
        ""
      ]
    },
    {
      "cell_type": "markdown",
      "metadata": {
        "id": "49Gj4O5O0Mll"
      },
      "source": [
        "#### 37. Create a 5x5 matrix with row values ranging from 0 to 4 (★★☆) \n",
        "(**hint**: np.arange)"
      ]
    },
    {
      "cell_type": "code",
      "execution_count": null,
      "metadata": {
        "id": "p9SzcxDC0Mll",
        "colab": {
          "base_uri": "https://localhost:8080/"
        },
        "outputId": "f8c613ca-9fdb-423b-a265-d23cb0a6d337"
      },
      "outputs": [
        {
          "output_type": "stream",
          "name": "stdout",
          "text": [
            "Original array:\n",
            "[[0. 0. 0. 0. 0.]\n",
            " [0. 0. 0. 0. 0.]\n",
            " [0. 0. 0. 0. 0.]\n",
            " [0. 0. 0. 0. 0.]\n",
            " [0. 0. 0. 0. 0.]]\n",
            "Row values ranging from 0 to 4.\n",
            "[[0. 1. 2. 3. 4.]\n",
            " [0. 1. 2. 3. 4.]\n",
            " [0. 1. 2. 3. 4.]\n",
            " [0. 1. 2. 3. 4.]\n",
            " [0. 1. 2. 3. 4.]]\n"
          ]
        }
      ],
      "source": [
        "import numpy as np\n",
        "x = np.zeros((5,5))\n",
        "print(\"Original array:\")\n",
        "print(x)\n",
        "print(\"Row values ranging from 0 to 4.\")\n",
        "x += np.arange(5)\n",
        "print(x)"
      ]
    },
    {
      "cell_type": "markdown",
      "metadata": {
        "id": "3VemznHN0Mll"
      },
      "source": [
        "#### 38. Consider a generator function that generates 10 integers and use it to build an array (★☆☆) \n",
        "(**hint**: np.fromiter)"
      ]
    },
    {
      "cell_type": "code",
      "execution_count": null,
      "metadata": {
        "id": "HMgOdgDS0Mll",
        "colab": {
          "base_uri": "https://localhost:8080/"
        },
        "outputId": "74e5f0c3-5ab9-4c7e-a0a2-69d61ba48377"
      },
      "outputs": [
        {
          "output_type": "stream",
          "name": "stdout",
          "text": [
            "New array:\n",
            "[ 0.  1.  2.  3.  4.  5.  6.  7.  8.  9. 10. 11. 12. 13. 14.]\n"
          ]
        }
      ],
      "source": [
        "import numpy as np\n",
        "def generate():\n",
        "   for n in range(15):\n",
        "       yield n\n",
        "nums = np.fromiter(generate(),dtype=float,count=-1)\n",
        "print(\"New array:\")\n",
        "print(nums)"
      ]
    },
    {
      "cell_type": "markdown",
      "metadata": {
        "id": "QhmsHVgx0Mll"
      },
      "source": [
        "#### 39. Create a vector of size 10 with values ranging from 0 to 1, both excluded (★★☆) \n",
        "(**hint**: np.linspace)"
      ]
    },
    {
      "cell_type": "code",
      "execution_count": null,
      "metadata": {
        "id": "mOrOCvbG0Mll",
        "colab": {
          "base_uri": "https://localhost:8080/"
        },
        "outputId": "8f5f19c3-af63-4ac1-d541-f54b62a60147"
      },
      "outputs": [
        {
          "output_type": "stream",
          "name": "stdout",
          "text": [
            "[0.09090909 0.18181818 0.27272727 0.36363636 0.45454545 0.54545455\n",
            " 0.63636364 0.72727273 0.81818182 0.90909091]\n"
          ]
        }
      ],
      "source": [
        "import numpy as np\n",
        "x = np.linspace(0,1,12,endpoint=True)[1:-1]\n",
        "print(x)"
      ]
    },
    {
      "cell_type": "markdown",
      "metadata": {
        "id": "kcdu7TFy0Mll"
      },
      "source": [
        "#### 40. Create a random vector of size 10 and sort it (★★☆) \n",
        "(**hint**: sort)"
      ]
    },
    {
      "cell_type": "code",
      "execution_count": null,
      "metadata": {
        "id": "Gz6q5UXY0Mlm",
        "colab": {
          "base_uri": "https://localhost:8080/"
        },
        "outputId": "b101c54c-4d1b-409a-eff1-ce65931f75aa"
      },
      "outputs": [
        {
          "output_type": "stream",
          "name": "stdout",
          "text": [
            "Original array:\n",
            "[0.01144829 0.48415293 0.14112108 0.70223221 0.92637011 0.85831486\n",
            " 0.65866545 0.47680144 0.28872612 0.04692408]\n",
            "Sorted array:\n",
            "[0.01144829 0.04692408 0.14112108 0.28872612 0.47680144 0.48415293\n",
            " 0.65866545 0.70223221 0.85831486 0.92637011]\n"
          ]
        }
      ],
      "source": [
        "import numpy as np\n",
        "x = np.random.random(10)\n",
        "print(\"Original array:\")\n",
        "print(x)\n",
        "x.sort()\n",
        "print(\"Sorted array:\")\n",
        "print(x)"
      ]
    },
    {
      "cell_type": "markdown",
      "metadata": {
        "id": "Q01AsP1V0Mlm"
      },
      "source": [
        "#### 41. How to sum a small array faster than np.sum? (★★☆) \n",
        "(**hint**: np.add.reduce)"
      ]
    },
    {
      "cell_type": "code",
      "execution_count": null,
      "metadata": {
        "id": "qjX3ksat0Mlm",
        "colab": {
          "base_uri": "https://localhost:8080/"
        },
        "outputId": "f94b15a5-1f31-4f21-91ec-b6c3e9c11dca"
      },
      "outputs": [
        {
          "output_type": "execute_result",
          "data": {
            "text/plain": [
              "array([1., 5.])"
            ]
          },
          "metadata": {},
          "execution_count": 25
        }
      ],
      "source": [
        "np.sum([0.5, 1.5])\n",
        "2.0\n",
        "np.sum([0.5, 0.7, 0.2, 1.5], dtype=np.int32)\n",
        "1\n",
        "np.sum([[0, 1], [0, 5]])\n",
        "6\n",
        "np.sum([[0, 1], [0, 5]], axis=0)\n",
        "\n",
        "np.sum([[0, 1], [0, 5]], axis=1)\n",
        "\n",
        "np.sum([[0, 1], [np.nan, 5]], where=[False, True], axis=1)\n"
      ]
    },
    {
      "cell_type": "markdown",
      "metadata": {
        "id": "gaY4iQ0c0Mlm"
      },
      "source": [
        "#### 42. Consider two random array A and B, check if they are equal (★★☆) \n",
        "(**hint**: np.allclose, np.array\\_equal)"
      ]
    },
    {
      "cell_type": "code",
      "execution_count": null,
      "metadata": {
        "id": "afWjN02B0Mln",
        "colab": {
          "base_uri": "https://localhost:8080/"
        },
        "outputId": "1aa594a7-8521-48c1-f41d-85e58f2593da"
      },
      "outputs": [
        {
          "output_type": "stream",
          "name": "stdout",
          "text": [
            "First array:\n",
            "[1 0 0 1 0 0]\n",
            "Second array:\n",
            "[1 1 1 0 1 1]\n",
            "Test above two arrays are equal or not!\n",
            "False\n"
          ]
        }
      ],
      "source": [
        "import numpy as np\n",
        "x = np.random.randint(0,2,6)\n",
        "print(\"First array:\")\n",
        "print(x)\n",
        "y = np.random.randint(0,2,6)\n",
        "print(\"Second array:\")\n",
        "print(y)\n",
        "print(\"Test above two arrays are equal or not!\")\n",
        "array_equal = np.allclose(x, y)\n",
        "print(array_equal)"
      ]
    },
    {
      "cell_type": "markdown",
      "metadata": {
        "id": "p8_gNi2l0Mln"
      },
      "source": [
        "#### 43. Make an array immutable (read-only) (★★☆) \n",
        "(**hint**: flags.writeable)"
      ]
    },
    {
      "cell_type": "code",
      "execution_count": null,
      "metadata": {
        "id": "ObsS_UeI0Mln",
        "colab": {
          "base_uri": "https://localhost:8080/"
        },
        "outputId": "be011c32-c85b-4d38-9342-a6ef75c664f2"
      },
      "outputs": [
        {
          "output_type": "stream",
          "name": "stdout",
          "text": [
            "Test the array is read-only or not:\n",
            "Try to change the value of the first element:\n"
          ]
        }
      ],
      "source": [
        "import numpy as np\n",
        "x = np.zeros(10)\n",
        "x.flags.writeable = False\n",
        "print(\"Test the array is read-only or not:\")\n",
        "print(\"Try to change the value of the first element:\")\n"
      ]
    },
    {
      "cell_type": "markdown",
      "metadata": {
        "id": "-n3ujPYR0Mln"
      },
      "source": [
        "#### 44. Consider a random 10x2 matrix representing cartesian coordinates, convert them to polar coordinates (★★☆) \n",
        "(**hint**: np.sqrt, np.arctan2)"
      ]
    },
    {
      "cell_type": "code",
      "execution_count": null,
      "metadata": {
        "id": "8WSpoGI90Mln",
        "colab": {
          "base_uri": "https://localhost:8080/"
        },
        "outputId": "7d15eb17-4707-4dce-cbd0-90180b3ff939"
      },
      "outputs": [
        {
          "output_type": "stream",
          "name": "stdout",
          "text": [
            "[1.18947612 0.78443632 0.38786891 0.91950667 0.656064   1.2247063\n",
            " 0.83732723 0.76471064 0.56407718 0.70777815]\n",
            "[0.68735656 0.19688721 0.82285036 1.02146418 0.06605231 0.75600691\n",
            " 0.4880007  1.3158762  1.13882535 1.55172869]\n"
          ]
        }
      ],
      "source": [
        "import numpy as np\n",
        "z= np.random.random((10,2))\n",
        "x,y = z[:,0], z[:,1]\n",
        "r = np.sqrt(x**2+y**2)\n",
        "t = np.arctan2(y,x)\n",
        "print(r)\n",
        "print(t)\n"
      ]
    },
    {
      "cell_type": "markdown",
      "metadata": {
        "id": "6ocpsUlE0Mln"
      },
      "source": [
        "#### 45. Create random vector of size 10 and replace the maximum value by 0 (★★☆) \n",
        "(**hint**: argmax)"
      ]
    },
    {
      "cell_type": "code",
      "execution_count": null,
      "metadata": {
        "id": "An-A3KQW0Mln",
        "colab": {
          "base_uri": "https://localhost:8080/"
        },
        "outputId": "79ee10e3-b950-4621-e843-6c6f8654ae5a"
      },
      "outputs": [
        {
          "output_type": "stream",
          "name": "stdout",
          "text": [
            "Original array:\n",
            "[0.97846985 0.64344019 0.68780534 0.81119255 0.17658033 0.00274015\n",
            " 0.06145167 0.30712582 0.40643145 0.05331871 0.13194992 0.61825738\n",
            " 0.28679629 0.82099121 0.78059241]\n",
            "Maximum value replaced by -1:\n",
            "[-1.          0.64344019  0.68780534  0.81119255  0.17658033  0.00274015\n",
            "  0.06145167  0.30712582  0.40643145  0.05331871  0.13194992  0.61825738\n",
            "  0.28679629  0.82099121  0.78059241]\n"
          ]
        }
      ],
      "source": [
        "import numpy as np\n",
        "x = np.random.random(15)\n",
        "print(\"Original array:\")\n",
        "print(x)\n",
        "x[x.argmax()] = -1\n",
        "print(\"Maximum value replaced by -1:\")\n",
        "print(x)"
      ]
    },
    {
      "cell_type": "markdown",
      "metadata": {
        "id": "rAHL8xd50Mlo"
      },
      "source": [
        "#### 46. Create a structured array with `x` and `y` coordinates covering the \\[0,1\\]x\\[0,1\\] area (★★☆) \n",
        "(**hint**: np.meshgrid)"
      ]
    },
    {
      "cell_type": "code",
      "execution_count": null,
      "metadata": {
        "id": "VVZfQMsK0Mlo",
        "colab": {
          "base_uri": "https://localhost:8080/"
        },
        "outputId": "b59cb744-faa5-46ac-f018-bf96abee79da"
      },
      "outputs": [
        {
          "output_type": "stream",
          "name": "stdout",
          "text": [
            "x_1 = \n",
            "[[-4. -3. -2. -1.  0.  1.  2.  3.  4.]\n",
            " [-4. -3. -2. -1.  0.  1.  2.  3.  4.]\n",
            " [-4. -3. -2. -1.  0.  1.  2.  3.  4.]\n",
            " [-4. -3. -2. -1.  0.  1.  2.  3.  4.]\n",
            " [-4. -3. -2. -1.  0.  1.  2.  3.  4.]\n",
            " [-4. -3. -2. -1.  0.  1.  2.  3.  4.]\n",
            " [-4. -3. -2. -1.  0.  1.  2.  3.  4.]\n",
            " [-4. -3. -2. -1.  0.  1.  2.  3.  4.]\n",
            " [-4. -3. -2. -1.  0.  1.  2.  3.  4.]\n",
            " [-4. -3. -2. -1.  0.  1.  2.  3.  4.]\n",
            " [-4. -3. -2. -1.  0.  1.  2.  3.  4.]]\n",
            "y_1 = \n",
            "[[-5. -5. -5. -5. -5. -5. -5. -5. -5.]\n",
            " [-4. -4. -4. -4. -4. -4. -4. -4. -4.]\n",
            " [-3. -3. -3. -3. -3. -3. -3. -3. -3.]\n",
            " [-2. -2. -2. -2. -2. -2. -2. -2. -2.]\n",
            " [-1. -1. -1. -1. -1. -1. -1. -1. -1.]\n",
            " [ 0.  0.  0.  0.  0.  0.  0.  0.  0.]\n",
            " [ 1.  1.  1.  1.  1.  1.  1.  1.  1.]\n",
            " [ 2.  2.  2.  2.  2.  2.  2.  2.  2.]\n",
            " [ 3.  3.  3.  3.  3.  3.  3.  3.  3.]\n",
            " [ 4.  4.  4.  4.  4.  4.  4.  4.  4.]\n",
            " [ 5.  5.  5.  5.  5.  5.  5.  5.  5.]]\n"
          ]
        }
      ],
      "source": [
        "# Sample code for generation of first example\n",
        "import numpy as np\n",
        "# from matplotlib import pyplot as plt\n",
        "# pyplot imported for plotting graphs\n",
        "\n",
        "x = np.linspace(-4, 4, 9)\n",
        "\n",
        "# numpy.linspace creates an array of\n",
        "# 9 linearly placed elements between\n",
        "# -4 and 4, both inclusive\n",
        "y = np.linspace(-5, 5, 11)\n",
        "\n",
        "# The meshgrid function returns\n",
        "# two 2-dimensional arrays\n",
        "x_1, y_1 = np.meshgrid(x, y)\n",
        "\n",
        "print(\"x_1 = \")\n",
        "print(x_1)\n",
        "print(\"y_1 = \")\n",
        "print(y_1)\n"
      ]
    },
    {
      "cell_type": "markdown",
      "metadata": {
        "id": "EiXKTre30Mlo"
      },
      "source": [
        "####  47. Given two arrays, X and Y, construct the Cauchy matrix C (Cij =1/(xi - yj)) \n",
        "(**hint**: np.subtract.outer)"
      ]
    },
    {
      "cell_type": "code",
      "execution_count": null,
      "metadata": {
        "id": "i94MhKpA0Mlo"
      },
      "outputs": [],
      "source": [
        ""
      ]
    },
    {
      "cell_type": "markdown",
      "metadata": {
        "id": "XxjFZeWq0Mlo"
      },
      "source": [
        "#### 48. Print the minimum and maximum representable value for each numpy scalar type (★★☆) \n",
        "(**hint**: np.iinfo, np.finfo, eps)"
      ]
    },
    {
      "cell_type": "code",
      "execution_count": null,
      "metadata": {
        "id": "5p7px4sL0Mlo"
      },
      "outputs": [],
      "source": [
        ""
      ]
    },
    {
      "cell_type": "markdown",
      "metadata": {
        "id": "8dNg0INW0Mlo"
      },
      "source": [
        "#### 49. How to print all the values of an array? (★★☆) \n",
        "(**hint**: np.set\\_printoptions)"
      ]
    },
    {
      "cell_type": "code",
      "execution_count": null,
      "metadata": {
        "id": "AF8cHiMP0Mlp"
      },
      "outputs": [],
      "source": [
        "import sys\n",
        "import numpy\n",
        "numpy.set_printoptions(threshold=sys.maxsize)"
      ]
    },
    {
      "cell_type": "markdown",
      "metadata": {
        "id": "9H7qsKux0Mlp"
      },
      "source": [
        "#### 50. How to find the closest value (to a given scalar) in a vector? (★★☆) \n",
        "(**hint**: argmin)"
      ]
    },
    {
      "cell_type": "code",
      "execution_count": null,
      "metadata": {
        "id": "YcnTNbi80Mlp",
        "colab": {
          "base_uri": "https://localhost:8080/"
        },
        "outputId": "1bd228b3-7233-448f-ee41-f28cd4cc1761"
      },
      "outputs": [
        {
          "output_type": "stream",
          "name": "stdout",
          "text": [
            "Original array:\n",
            "[ 0  1  2  3  4  5  6  7  8  9 10 11 12 13 14 15 16 17 18 19 20 21 22 23\n",
            " 24 25 26 27 28 29 30 31 32 33 34 35 36 37 38 39 40 41 42 43 44 45 46 47\n",
            " 48 49 50 51 52 53 54 55 56 57 58 59 60 61 62 63 64 65 66 67 68 69 70 71\n",
            " 72 73 74 75 76 77 78 79 80 81 82 83 84 85 86 87 88 89 90 91 92 93 94 95\n",
            " 96 97 98 99]\n",
            "Value to compare:\n",
            "38.313375343677215\n",
            "38\n"
          ]
        }
      ],
      "source": [
        "import numpy as np\n",
        "x = np.arange(100)\n",
        "print(\"Original array:\")\n",
        "print(x)\n",
        "a = np.random.uniform(0,100)\n",
        "print(\"Value to compare:\")\n",
        "print(a)\n",
        "index = (np.abs(x-a)).argmin()\n",
        "print(x[index])"
      ]
    },
    {
      "cell_type": "markdown",
      "metadata": {
        "id": "PhzT3dVt0Mlp"
      },
      "source": [
        "#### 51. Create a structured array representing a position (x,y) and a color (r,g,b) (★★☆) \n",
        "(**hint**: dtype)"
      ]
    },
    {
      "cell_type": "code",
      "execution_count": null,
      "metadata": {
        "id": "eC5RxCBf0Mlp",
        "colab": {
          "base_uri": "https://localhost:8080/",
          "height": 130
        },
        "outputId": "8fd5a676-35b7-4177-dd7a-ccb0b5bc1182"
      },
      "outputs": [
        {
          "output_type": "error",
          "ename": "SyntaxError",
          "evalue": "ignored",
          "traceback": [
            "\u001b[0;36m  File \u001b[0;32m\"<ipython-input-35-0d9b505f0756>\"\u001b[0;36m, line \u001b[0;32m5\u001b[0m\n\u001b[0;31m    dtype=[('name', 'U10'), ('age', '<i4'), ('weight', '<f4')])\u001b[0m\n\u001b[0m         ^\u001b[0m\n\u001b[0;31mSyntaxError\u001b[0m\u001b[0;31m:\u001b[0m invalid syntax\n"
          ]
        }
      ],
      "source": [
        "x = np.array([('Rex', 9, 81.0), ('Fido', 3, 27.0)],\n",
        "             dtype=[('name', 'U10'), ('age', 'i4'), ('weight', 'f4')])\n",
        "x\n",
        "([('Rex', 9, 81.), ('Fido', 3, 27.)],\n",
        "      dtype=[('name', 'U10'), ('age', '<i4'), ('weight', '<f4')])"
      ]
    },
    {
      "cell_type": "markdown",
      "metadata": {
        "id": "TBJI7t0H0Mlp"
      },
      "source": [
        "#### 52. Consider a random vector with shape (100,2) representing coordinates, find point by point distances (★★☆) \n",
        "(**hint**: np.atleast\\_2d, T, np.sqrt)"
      ]
    },
    {
      "cell_type": "code",
      "execution_count": null,
      "metadata": {
        "id": "V5VFtFBO0Mlq",
        "colab": {
          "base_uri": "https://localhost:8080/"
        },
        "outputId": "7fbcdbbc-5c89-494c-92c4-a8054d3f4c85"
      },
      "outputs": [
        {
          "output_type": "stream",
          "name": "stdout",
          "text": [
            "[[0.         0.34394403 0.51803059 0.80836169 0.65467772 0.65917597\n",
            "  0.29116989 0.52173474 0.63105014 0.74858406]\n",
            " [0.34394403 0.         0.25060117 0.7202853  0.79670676 0.66930016\n",
            "  0.05283665 0.40573752 0.86690873 0.95726419]\n",
            " [0.51803059 0.25060117 0.         0.51420801 0.73460569 0.53117225\n",
            "  0.28285236 0.23690346 0.8711601  0.93114047]\n",
            " [0.80836169 0.7202853  0.51420801 0.         0.50146561 0.22917206\n",
            "  0.72630139 0.31690482 0.73416668 0.71539929]\n",
            " [0.65467772 0.79670676 0.73460569 0.50146561 0.         0.28011792\n",
            "  0.76862154 0.51381622 0.24126732 0.21892829]\n",
            " [0.65917597 0.66930016 0.53117225 0.22917206 0.28011792 0.\n",
            "  0.6584585  0.29426988 0.50631676 0.49845984]\n",
            " [0.29116989 0.05283665 0.28285236 0.72630139 0.76862154 0.6584585\n",
            "  0.         0.40949639 0.82731833 0.92168377]\n",
            " [0.52173474 0.40573752 0.23690346 0.31690482 0.51381622 0.29426988\n",
            "  0.40949639 0.         0.68159344 0.72181703]\n",
            " [0.63105014 0.86690873 0.8711601  0.73416668 0.24126732 0.50631676\n",
            "  0.82731833 0.68159344 0.         0.13355739]\n",
            " [0.74858406 0.95726419 0.93114047 0.71539929 0.21892829 0.49845984\n",
            "  0.92168377 0.72181703 0.13355739 0.        ]]\n"
          ]
        }
      ],
      "source": [
        "import numpy as np\n",
        "a= np.random.random((10,2))\n",
        "x,y = np.atleast_2d(a[:,0], a[:,1])\n",
        "d = np.sqrt( (x-x.T)**2 + (y-y.T)**2)\n",
        "print(d)"
      ]
    },
    {
      "cell_type": "markdown",
      "metadata": {
        "id": "aQcZh7JY0Mlq"
      },
      "source": [
        "#### 53. How to convert a float (32 bits) array into an integer (32 bits) in place? \n",
        "(**hint**: astype(copy=False))"
      ]
    },
    {
      "cell_type": "markdown",
      "metadata": {
        "id": "jcet09Xr0Mlr"
      },
      "source": [
        "#### 54. How to read the following file? (★★☆) \n",
        "(**hint**: np.genfromtxt)"
      ]
    },
    {
      "cell_type": "markdown",
      "metadata": {
        "id": "xhievG3c0Mls"
      },
      "source": [
        "```\n",
        "1, 2, 3, 4, 5\n",
        "6,  ,  , 7, 8\n",
        " ,  , 9,10,11\n",
        "```"
      ]
    },
    {
      "cell_type": "code",
      "execution_count": null,
      "metadata": {
        "id": "Y3KKr3d90Mls"
      },
      "outputs": [],
      "source": [
        ""
      ]
    },
    {
      "cell_type": "markdown",
      "metadata": {
        "id": "c1Z2E7n10Mls"
      },
      "source": [
        "#### 55. What is the equivalent of enumerate for numpy arrays? (★★☆) \n",
        "(**hint**: np.ndenumerate, np.ndindex)"
      ]
    },
    {
      "cell_type": "code",
      "execution_count": null,
      "metadata": {
        "id": "Gbge8sB10Mls",
        "colab": {
          "base_uri": "https://localhost:8080/"
        },
        "outputId": "ced66439-d5f5-4cd3-f0c5-483517f88fe8"
      },
      "outputs": [
        {
          "output_type": "stream",
          "name": "stdout",
          "text": [
            "(0, 0) 1\n",
            "(0, 1) 2\n",
            "(1, 0) 3\n",
            "(1, 1) 4\n"
          ]
        }
      ],
      "source": [
        "a = np.array([[1, 2], [3, 4]])\n",
        "for index, x in np.ndenumerate(a):\n",
        "    print(index, x)"
      ]
    },
    {
      "cell_type": "markdown",
      "metadata": {
        "id": "7loIdLAY0Mls"
      },
      "source": [
        "#### 56. Generate a generic 2D Gaussian-like array (★★☆) \n",
        "(**hint**: np.meshgrid, np.exp)"
      ]
    },
    {
      "cell_type": "code",
      "execution_count": null,
      "metadata": {
        "id": "XLBnEm380Mlt",
        "colab": {
          "base_uri": "https://localhost:8080/"
        },
        "outputId": "4ca7f991-83ae-4965-b7dc-4f0313dab737"
      },
      "outputs": [
        {
          "output_type": "stream",
          "name": "stdout",
          "text": [
            "2D Gaussian-like array:\n",
            "[[0.36787944 0.44822088 0.51979489 0.57375342 0.60279818 0.60279818\n",
            "  0.57375342 0.51979489 0.44822088 0.36787944]\n",
            " [0.44822088 0.54610814 0.63331324 0.69905581 0.73444367 0.73444367\n",
            "  0.69905581 0.63331324 0.54610814 0.44822088]\n",
            " [0.51979489 0.63331324 0.73444367 0.81068432 0.85172308 0.85172308\n",
            "  0.81068432 0.73444367 0.63331324 0.51979489]\n",
            " [0.57375342 0.69905581 0.81068432 0.89483932 0.9401382  0.9401382\n",
            "  0.89483932 0.81068432 0.69905581 0.57375342]\n",
            " [0.60279818 0.73444367 0.85172308 0.9401382  0.98773022 0.98773022\n",
            "  0.9401382  0.85172308 0.73444367 0.60279818]\n",
            " [0.60279818 0.73444367 0.85172308 0.9401382  0.98773022 0.98773022\n",
            "  0.9401382  0.85172308 0.73444367 0.60279818]\n",
            " [0.57375342 0.69905581 0.81068432 0.89483932 0.9401382  0.9401382\n",
            "  0.89483932 0.81068432 0.69905581 0.57375342]\n",
            " [0.51979489 0.63331324 0.73444367 0.81068432 0.85172308 0.85172308\n",
            "  0.81068432 0.73444367 0.63331324 0.51979489]\n",
            " [0.44822088 0.54610814 0.63331324 0.69905581 0.73444367 0.73444367\n",
            "  0.69905581 0.63331324 0.54610814 0.44822088]\n",
            " [0.36787944 0.44822088 0.51979489 0.57375342 0.60279818 0.60279818\n",
            "  0.57375342 0.51979489 0.44822088 0.36787944]]\n"
          ]
        }
      ],
      "source": [
        "import numpy as np\n",
        "x, y = np.meshgrid(np.linspace(-1,1,10), np.linspace(-1,1,10))\n",
        "d = np.sqrt(x*x+y*y)\n",
        "sigma, mu = 1.0, 0.0\n",
        "g = np.exp(-( (d-mu)**2 / ( 2.0 * sigma**2 ) ) )\n",
        "print(\"2D Gaussian-like array:\")\n",
        "print(g)"
      ]
    },
    {
      "cell_type": "markdown",
      "metadata": {
        "id": "2G7NDdcu0Mlt"
      },
      "source": [
        "#### 57. How to randomly place p elements in a 2D array? (★★☆) \n",
        "(**hint**: np.put, np.random.choice)"
      ]
    },
    {
      "cell_type": "code",
      "execution_count": null,
      "metadata": {
        "id": "-OiNSySr0Mlt"
      },
      "outputs": [],
      "source": [
        "for x in range(0,25):\n",
        "    x = np.random.choice([True,False], p=[0.15,0.85])"
      ]
    },
    {
      "cell_type": "markdown",
      "metadata": {
        "id": "5vfTGU_S0Mlt"
      },
      "source": [
        "#### 58. Subtract the mean of each row of a matrix (★★☆) \n",
        "(**hint**: mean(axis=,keepdims=))"
      ]
    },
    {
      "cell_type": "code",
      "execution_count": null,
      "metadata": {
        "id": "XIKQg91M0Mlt",
        "colab": {
          "base_uri": "https://localhost:8080/"
        },
        "outputId": "870bcd43-1243-4de3-9b22-d2ab0c750581"
      },
      "outputs": [
        {
          "output_type": "stream",
          "name": "stdout",
          "text": [
            "Original matrix:\n",
            "\n",
            "[[0.80928246 0.07630155 0.414488   0.13593182 0.44106049 0.69449587\n",
            "  0.7964749  0.64489876 0.26665064 0.59343817]\n",
            " [0.81200349 0.08376019 0.1305248  0.70437233 0.55981952 0.83710506\n",
            "  0.63833042 0.84227277 0.44509775 0.69312018]\n",
            " [0.39877444 0.72299323 0.65056231 0.66410182 0.3624875  0.8162112\n",
            "  0.96726304 0.05464809 0.55337784 0.15899314]\n",
            " [0.31388205 0.52070643 0.25664991 0.46441487 0.06842458 0.42079224\n",
            "  0.31747099 0.5394376  0.0538757  0.21609563]\n",
            " [0.93511853 0.71851297 0.49340308 0.27674406 0.27684538 0.87021456\n",
            "  0.96530872 0.43503365 0.38598464 0.83905944]]\n",
            "\n",
            "Subtract the mean of each row of the said matrix:\n",
            "\n",
            "[[ 3.21980193e-01 -4.11000718e-01 -7.28142640e-02 -3.51370446e-01\n",
            "  -4.62417758e-02  2.07193606e-01  3.09172636e-01  1.57596491e-01\n",
            "  -2.20651624e-01  1.06135904e-01]\n",
            " [ 2.37362842e-01 -4.90880467e-01 -4.44115851e-01  1.29731682e-01\n",
            "  -1.48211314e-02  2.62464413e-01  6.36897691e-02  2.67632114e-01\n",
            "  -1.29542897e-01  1.18479527e-01]\n",
            " [-1.36166822e-01  1.88051967e-01  1.15621048e-01  1.29160555e-01\n",
            "  -1.72453762e-01  2.81269943e-01  4.32321777e-01 -4.80293166e-01\n",
            "   1.84365754e-02 -3.75948116e-01]\n",
            " [-3.29295518e-03  2.03531429e-01 -6.05250891e-02  1.47239874e-01\n",
            "  -2.48750417e-01  1.03617244e-01  2.95988751e-04  2.22262601e-01\n",
            "  -2.63299305e-01 -1.01079371e-01]\n",
            " [ 3.15496023e-01  9.88904704e-02 -1.26219425e-01 -3.42878441e-01\n",
            "  -3.42777122e-01  2.50592051e-01  3.45686218e-01 -1.84588850e-01\n",
            "  -2.33637866e-01  2.19436941e-01]]\n"
          ]
        }
      ],
      "source": [
        "import numpy as np\n",
        "print(\"Original matrix:\\n\")\n",
        "X = np.random.rand(5, 10)\n",
        "print(X)\n",
        "print(\"\\nSubtract the mean of each row of the said matrix:\\n\")\n",
        "Y = X - X.mean(axis=1, keepdims=True)\n",
        "print(Y)"
      ]
    },
    {
      "cell_type": "markdown",
      "metadata": {
        "id": "fQOG8vNu0Mlt"
      },
      "source": [
        "#### 59. How to sort an array by the nth column? (★★☆) \n",
        "(**hint**: argsort)"
      ]
    },
    {
      "cell_type": "code",
      "execution_count": null,
      "metadata": {
        "id": "Sg3AA0Uu0Mlt",
        "colab": {
          "base_uri": "https://localhost:8080/"
        },
        "outputId": "bd7f72aa-ff8f-497b-92e0-f79430c060d4"
      },
      "outputs": [
        {
          "output_type": "stream",
          "name": "stdout",
          "text": [
            "Original array:\n",
            "\n",
            "[[0 6 3]\n",
            " [1 6 9]\n",
            " [3 8 2]]\n",
            "\n",
            "Sort the said array by the nth column: \n",
            "[[0 6 3]\n",
            " [1 6 9]\n",
            " [3 8 2]]\n"
          ]
        }
      ],
      "source": [
        "import numpy as np\n",
        "print(\"Original array:\\n\")\n",
        "nums = np.random.randint(0,10,(3,3))\n",
        "print(nums)\n",
        "print(\"\\nSort the said array by the nth column: \")\n",
        "print(nums[nums[:,1].argsort()])"
      ]
    },
    {
      "cell_type": "markdown",
      "metadata": {
        "id": "zGfNNG9C0Mlu"
      },
      "source": [
        "#### 60. How to tell if a given 2D array has null columns? (★★☆) \n",
        "(**hint**: any, ~)"
      ]
    },
    {
      "cell_type": "code",
      "execution_count": null,
      "metadata": {
        "id": "5tZYN3qM0Mlu",
        "colab": {
          "base_uri": "https://localhost:8080/"
        },
        "outputId": "53d6a277-4207-4488-87a7-e360eb2c0645"
      },
      "outputs": [
        {
          "output_type": "stream",
          "name": "stdout",
          "text": [
            "Original array:\n",
            "[[2 1 1 0 2 1 1 1 0 0]\n",
            " [0 2 2 0 2 1 1 1 2 2]\n",
            " [2 0 1 1 2 1 2 2 0 1]\n",
            " [2 2 1 1 0 0 2 2 0 1]]\n",
            "\n",
            "Test whether the said array has null columns or not:\n",
            "False\n"
          ]
        }
      ],
      "source": [
        "import numpy as np\n",
        "print(\"Original array:\")\n",
        "nums = np.random.randint(0,3,(4,10))\n",
        "print(nums)\n",
        "print(\"\\nTest whether the said array has null columns or not:\")\n",
        "print((~nums.any(axis=0)).any())"
      ]
    },
    {
      "cell_type": "markdown",
      "metadata": {
        "id": "RvOcs3AA0Mlu"
      },
      "source": [
        "#### 61. Find the nearest value from a given value in an array (★★☆) \n",
        "(**hint**: np.abs, argmin, flat)"
      ]
    },
    {
      "cell_type": "code",
      "execution_count": null,
      "metadata": {
        "id": "I1xpSiCq0Mlu",
        "colab": {
          "base_uri": "https://localhost:8080/"
        },
        "outputId": "5165c090-e889-48db-b0f2-4b3e157186a0"
      },
      "outputs": [
        {
          "output_type": "stream",
          "name": "stdout",
          "text": [
            "[0.42113672 0.95970945 0.66370945 0.74664629 0.94512441 0.23691353\n",
            " 0.91490777 0.18089456 0.56127902 0.8601273 ]\n",
            "0.5612790165409625\n"
          ]
        }
      ],
      "source": [
        "import numpy as np\n",
        "def find_nearest(array, value):\n",
        "    array = np.asarray(array)\n",
        "    idx = (np.abs(array - value)).argmin()\n",
        "    return array[idx]\n",
        "\n",
        "array = np.random.random(10)\n",
        "print(array)\n",
        "# [ 0.21069679  0.61290182  0.63425412  0.84635244  0.91599191  0.00213826\n",
        "#   0.17104965  0.56874386  0.57319379  0.28719469]\n",
        "\n",
        "value = 0.5\n",
        "\n",
        "print(find_nearest(array, value))"
      ]
    },
    {
      "cell_type": "markdown",
      "metadata": {
        "id": "ZlawxB9Z0Mlu"
      },
      "source": [
        "#### 62. Considering two arrays with shape (1,3) and (3,1), how to compute their sum using an iterator? (★★☆) \n",
        "(**hint**: np.nditer)"
      ]
    },
    {
      "cell_type": "code",
      "execution_count": null,
      "metadata": {
        "id": "ygFsOfDu0Mlu"
      },
      "outputs": [],
      "source": [
        ""
      ]
    },
    {
      "cell_type": "markdown",
      "metadata": {
        "id": "PSHQBhbb0Mlu"
      },
      "source": [
        "#### 63. Create an array class that has a name attribute (★★☆) \n",
        "(**hint**: class method)"
      ]
    },
    {
      "cell_type": "code",
      "execution_count": null,
      "metadata": {
        "id": "ocQiKWFU0Mlu"
      },
      "outputs": [],
      "source": [
        ""
      ]
    },
    {
      "cell_type": "markdown",
      "metadata": {
        "id": "yztNOxDT0Mlv"
      },
      "source": [
        "#### 64. Consider a given vector, how to add 1 to each element indexed by a second vector (be careful with repeated indices)? (★★★) \n",
        "(**hint**: np.bincount | np.add.at)"
      ]
    },
    {
      "cell_type": "code",
      "execution_count": null,
      "metadata": {
        "id": "rUKM87660Mlv"
      },
      "outputs": [],
      "source": [
        ""
      ]
    },
    {
      "cell_type": "markdown",
      "metadata": {
        "id": "y7XVAnFT0Mlv"
      },
      "source": [
        "#### 65. How to accumulate elements of a vector (X) to an array (F) based on an index list (I)? (★★★) \n",
        "(**hint**: np.bincount)"
      ]
    },
    {
      "cell_type": "code",
      "execution_count": null,
      "metadata": {
        "id": "JVgjn__10Mlv",
        "colab": {
          "base_uri": "https://localhost:8080/"
        },
        "outputId": "948b7c8e-9784-4668-b15f-eb88d4e7cce8"
      },
      "outputs": [
        {
          "output_type": "stream",
          "name": "stdout",
          "text": [
            "[0. 7. 0. 6. 5. 0. 0. 0. 0. 3.]\n"
          ]
        }
      ],
      "source": [
        "X = [1,2,3,4,5,6]\n",
        "I = [1,3,9,3,4,1]\n",
        "F = np.bincount(I,X)\n",
        "print(F)"
      ]
    },
    {
      "cell_type": "markdown",
      "metadata": {
        "id": "KCMY8Lc20Mlv"
      },
      "source": [
        "#### 66. Considering a (w,h,3) image of (dtype=ubyte), compute the number of unique colors (★★★) \n",
        "(**hint**: np.unique)"
      ]
    },
    {
      "cell_type": "code",
      "execution_count": null,
      "metadata": {
        "id": "Q_iwUzW60Mlv",
        "colab": {
          "base_uri": "https://localhost:8080/"
        },
        "outputId": "41066afa-2ab9-47c3-980f-2e066ec709ca"
      },
      "outputs": [
        {
          "output_type": "stream",
          "name": "stdout",
          "text": [
            "[0 1]\n"
          ]
        }
      ],
      "source": [
        "w,h = 16,16\n",
        "I = np.random.randint(0,2,(h,w,3)).astype(np.ubyte)\n",
        "F = I[...,0]*256*256 + I[...,1]*256 +I[...,2]\n",
        "n = len(np.unique(F))\n",
        "print(np.unique(I))"
      ]
    },
    {
      "cell_type": "markdown",
      "metadata": {
        "id": "J8gAigy_0Mlv"
      },
      "source": [
        "#### 67. Considering a four dimensions array, how to get sum over the last two axis at once? (★★★) \n",
        "(**hint**: sum(axis=(-2,-1)))"
      ]
    },
    {
      "cell_type": "code",
      "execution_count": null,
      "metadata": {
        "id": "DJdTWltB0Mlw",
        "colab": {
          "base_uri": "https://localhost:8080/",
          "height": 200
        },
        "outputId": "f4005a00-cbf0-4f08-b098-9c5ff056c3c8"
      },
      "outputs": [
        {
          "output_type": "error",
          "ename": "NameError",
          "evalue": "ignored",
          "traceback": [
            "\u001b[0;31m---------------------------------------------------------------------------\u001b[0m",
            "\u001b[0;31mNameError\u001b[0m                                 Traceback (most recent call last)",
            "\u001b[0;32m<ipython-input-1-8e0cc9bdbd8a>\u001b[0m in \u001b[0;36m<module>\u001b[0;34m()\u001b[0m\n\u001b[0;32m----> 1\u001b[0;31m \u001b[0mA\u001b[0m \u001b[0;34m=\u001b[0m \u001b[0mnp\u001b[0m\u001b[0;34m.\u001b[0m\u001b[0mrandom\u001b[0m\u001b[0;34m.\u001b[0m\u001b[0mrandint\u001b[0m\u001b[0;34m(\u001b[0m\u001b[0;36m0\u001b[0m\u001b[0;34m,\u001b[0m\u001b[0;36m10\u001b[0m\u001b[0;34m,\u001b[0m\u001b[0;34m(\u001b[0m\u001b[0;36m3\u001b[0m\u001b[0;34m,\u001b[0m\u001b[0;36m4\u001b[0m\u001b[0;34m,\u001b[0m\u001b[0;36m3\u001b[0m\u001b[0;34m,\u001b[0m\u001b[0;36m4\u001b[0m\u001b[0;34m)\u001b[0m\u001b[0;34m)\u001b[0m\u001b[0;34m\u001b[0m\u001b[0;34m\u001b[0m\u001b[0m\n\u001b[0m\u001b[1;32m      2\u001b[0m \u001b[0msum\u001b[0m \u001b[0;34m=\u001b[0m \u001b[0mA\u001b[0m\u001b[0;34m.\u001b[0m\u001b[0mreshape\u001b[0m\u001b[0;34m(\u001b[0m\u001b[0mA\u001b[0m\u001b[0;34m.\u001b[0m\u001b[0mshape\u001b[0m\u001b[0;34m[\u001b[0m\u001b[0;34m:\u001b[0m\u001b[0;34m-\u001b[0m\u001b[0;36m2\u001b[0m\u001b[0;34m]\u001b[0m \u001b[0;34m+\u001b[0m \u001b[0;34m(\u001b[0m\u001b[0;34m-\u001b[0m\u001b[0;36m1\u001b[0m\u001b[0;34m,\u001b[0m\u001b[0;34m)\u001b[0m\u001b[0;34m)\u001b[0m\u001b[0;34m.\u001b[0m\u001b[0msum\u001b[0m\u001b[0;34m(\u001b[0m\u001b[0maxis\u001b[0m\u001b[0;34m=\u001b[0m\u001b[0;34m-\u001b[0m\u001b[0;36m1\u001b[0m\u001b[0;34m)\u001b[0m\u001b[0;34m\u001b[0m\u001b[0;34m\u001b[0m\u001b[0m\n\u001b[1;32m      3\u001b[0m \u001b[0mprint\u001b[0m\u001b[0;34m(\u001b[0m\u001b[0msum\u001b[0m\u001b[0;34m)\u001b[0m\u001b[0;34m\u001b[0m\u001b[0;34m\u001b[0m\u001b[0m\n",
            "\u001b[0;31mNameError\u001b[0m: name 'np' is not defined"
          ]
        }
      ],
      "source": [
        "A = np.random.randint(0,10,(3,4,3,4))\n",
        "sum = A.reshape(A.shape[:-2] + (-1,)).sum(axis=-1)\n",
        "print(sum)"
      ]
    },
    {
      "cell_type": "markdown",
      "metadata": {
        "id": "GQou3SkP0Mlw"
      },
      "source": [
        "#### 68. Considering a one-dimensional vector D, how to compute means of subsets of D using a vector S of same size describing subset  indices? (★★★) \n",
        "(**hint**: np.bincount)"
      ]
    },
    {
      "cell_type": "code",
      "execution_count": null,
      "metadata": {
        "id": "fd2NgVQy0Mlw",
        "colab": {
          "base_uri": "https://localhost:8080/"
        },
        "outputId": "cc75245f-b498-44f3-d62c-c09b895a9a3d"
      },
      "outputs": [
        {
          "output_type": "stream",
          "name": "stdout",
          "text": [
            "[0.51540176 0.40733082 0.54786366 0.4502705  0.48671085 0.42211797\n",
            " 0.34396722 0.61169064 0.52660134 0.61350266]\n"
          ]
        }
      ],
      "source": [
        "import numpy as np \n",
        "D = np.random.uniform(0,1,100)\n",
        "S = np.random.randint(0,10,100)\n",
        "D_sums = np.bincount(S, weights=D)\n",
        "D_counts = np.bincount(S)\n",
        "D_means = D_sums / D_counts\n",
        "print(D_means)"
      ]
    },
    {
      "cell_type": "markdown",
      "metadata": {
        "id": "ELDVOP2d0Mlw"
      },
      "source": [
        "#### 69. How to get the diagonal of a dot product? (★★★) \n",
        "(**hint**: np.diag)"
      ]
    },
    {
      "cell_type": "code",
      "execution_count": null,
      "metadata": {
        "id": "Uv8u8ZH10Mlw",
        "colab": {
          "base_uri": "https://localhost:8080/"
        },
        "outputId": "8536c6ec-f5ae-45d9-c513-0150b3df4d6d"
      },
      "outputs": [
        {
          "output_type": "execute_result",
          "data": {
            "text/plain": [
              "array([85, 82, 65])"
            ]
          },
          "metadata": {},
          "execution_count": 4
        }
      ],
      "source": [
        "A = np.random.randint(0,10,(3,3))\n",
        "B= np.random.randint(0,10,(3,3))\n",
        "#Slow version\n",
        "\n",
        "np.diag(np.dot(A, B))\n",
        "\n",
        "# Fast version\n",
        "np.sum(A * B.T, axis=1)\n",
        "\n",
        "# Faster version\n",
        "np.einsum(\"ij,ji->i\", A, B)"
      ]
    },
    {
      "cell_type": "markdown",
      "metadata": {
        "id": "_t6fK-Te0Mlx"
      },
      "source": [
        "#### 70. Consider the vector \\[1, 2, 3, 4, 5\\], how to build a new vector with 3 consecutive zeros interleaved between each value? (★★★) \n",
        "(**hint**: array\\[::4\\])"
      ]
    },
    {
      "cell_type": "code",
      "execution_count": null,
      "metadata": {
        "id": "PXOFrfZ_0Mlx",
        "colab": {
          "base_uri": "https://localhost:8080/"
        },
        "outputId": "5083bb1e-4849-4da8-a717-e5be925ff84b"
      },
      "outputs": [
        {
          "output_type": "stream",
          "name": "stdout",
          "text": [
            "[1. 0. 0. 0. 2. 0. 0. 0. 3. 0. 0. 0. 4. 0. 0. 0. 5.]\n"
          ]
        }
      ],
      "source": [
        "Z = np.array([1,2,3,4,5])\n",
        "nz = 3\n",
        "Z0 = np.zeros(len(Z) + (len(Z)-1)*(nz))\n",
        "Z0[::nz+1] = Z\n",
        "print(Z0)"
      ]
    },
    {
      "cell_type": "markdown",
      "metadata": {
        "id": "3il5lRQK0Mlx"
      },
      "source": [
        "#### 71. Consider an array of dimension (5,5,3), how to mulitply it by an array with dimensions (5,5)? (★★★) \n",
        "(**hint**: array\\[:, :, None\\])"
      ]
    },
    {
      "cell_type": "code",
      "execution_count": null,
      "metadata": {
        "collapsed": true,
        "id": "hNZIlpmG0Mlx",
        "colab": {
          "base_uri": "https://localhost:8080/"
        },
        "outputId": "0d393ec2-b9bb-4d6b-bcc9-dded8a95f527"
      },
      "outputs": [
        {
          "output_type": "stream",
          "name": "stdout",
          "text": [
            "[[[2. 2. 2.]\n",
            "  [2. 2. 2.]\n",
            "  [2. 2. 2.]\n",
            "  [2. 2. 2.]\n",
            "  [2. 2. 2.]]\n",
            "\n",
            " [[2. 2. 2.]\n",
            "  [2. 2. 2.]\n",
            "  [2. 2. 2.]\n",
            "  [2. 2. 2.]\n",
            "  [2. 2. 2.]]\n",
            "\n",
            " [[2. 2. 2.]\n",
            "  [2. 2. 2.]\n",
            "  [2. 2. 2.]\n",
            "  [2. 2. 2.]\n",
            "  [2. 2. 2.]]\n",
            "\n",
            " [[2. 2. 2.]\n",
            "  [2. 2. 2.]\n",
            "  [2. 2. 2.]\n",
            "  [2. 2. 2.]\n",
            "  [2. 2. 2.]]\n",
            "\n",
            " [[2. 2. 2.]\n",
            "  [2. 2. 2.]\n",
            "  [2. 2. 2.]\n",
            "  [2. 2. 2.]\n",
            "  [2. 2. 2.]]]\n"
          ]
        }
      ],
      "source": [
        "A = np.ones((5,5,3))\n",
        "B = 2*np.ones((5,5))\n",
        "print(A * B[:,:,None])"
      ]
    },
    {
      "cell_type": "markdown",
      "metadata": {
        "id": "TKe_PY5R0Mlx"
      },
      "source": [
        "#### 72. How to swap two rows of an array? (★★★) \n",
        "(**hint**: array\\[\\[\\]\\] = array\\[\\[\\]\\])"
      ]
    },
    {
      "cell_type": "code",
      "execution_count": null,
      "metadata": {
        "id": "fYDn7GD_0Mly",
        "colab": {
          "base_uri": "https://localhost:8080/"
        },
        "outputId": "8c8030b0-6adc-40ac-cd64-9d535e5f4e26"
      },
      "outputs": [
        {
          "output_type": "stream",
          "name": "stdout",
          "text": [
            "[[ 5  6  7  8  9]\n",
            " [ 0  1  2  3  4]\n",
            " [10 11 12 13 14]\n",
            " [15 16 17 18 19]\n",
            " [20 21 22 23 24]]\n"
          ]
        }
      ],
      "source": [
        "A = np.arange(25).reshape(5,5)\n",
        "A[[0,1]] = A[[1,0]]\n",
        "print(A)\n"
      ]
    },
    {
      "cell_type": "markdown",
      "metadata": {
        "id": "HMuMsBJm0Mly"
      },
      "source": [
        "#### 73. Consider a set of 10 triplets describing 10 triangles (with shared vertices), find the set of unique line segments composing all the  triangles (★★★) \n",
        "(**hint**: repeat, np.roll, np.sort, view, np.unique)"
      ]
    },
    {
      "cell_type": "code",
      "execution_count": null,
      "metadata": {
        "id": "yQKpfrfC0Mly",
        "colab": {
          "base_uri": "https://localhost:8080/"
        },
        "outputId": "8e4da2d9-65dd-48ed-94f3-ee58a0dacd9c"
      },
      "outputs": [
        {
          "output_type": "stream",
          "name": "stdout",
          "text": [
            "[( 0, 13) ( 0, 97) ( 2, 72) ( 2, 91) ( 9, 21) ( 9, 72) (12, 19) (12, 91)\n",
            " (13, 97) (14, 21) (14, 67) (15, 92) (15, 93) (16, 32) (16, 56) (19, 91)\n",
            " (21, 67) (21, 72) (22, 42) (22, 62) (32, 56) (34, 58) (34, 84) (40, 59)\n",
            " (40, 79) (42, 62) (58, 84) (59, 79) (72, 91) (92, 93)]\n"
          ]
        }
      ],
      "source": [
        "faces = np.random.randint(0,100,(10,3))\n",
        "F = np.roll(faces.repeat(2,axis=1),-1,axis=1)\n",
        "F = F.reshape(len(F)*3,2)\n",
        "F = np.sort(F,axis=1)\n",
        "G = F.view( dtype=[('p0',F.dtype),('p1',F.dtype)] )\n",
        "G = np.unique(G)\n",
        "print(G)"
      ]
    },
    {
      "cell_type": "markdown",
      "metadata": {
        "id": "g1uYFlHu0Mlz"
      },
      "source": [
        "#### 74. Given an array C that is a bincount, how to produce an array A such that np.bincount(A) == C? (★★★) \n",
        "(**hint**: np.repeat)"
      ]
    },
    {
      "cell_type": "code",
      "execution_count": null,
      "metadata": {
        "id": "xG1Q7nUJ0Ml0",
        "colab": {
          "base_uri": "https://localhost:8080/"
        },
        "outputId": "93e86dcb-4235-410b-ee2a-e4bb022c1aa7"
      },
      "outputs": [
        {
          "output_type": "stream",
          "name": "stdout",
          "text": [
            "[1 1 2 3 4 4 6]\n"
          ]
        }
      ],
      "source": [
        "C = np.bincount([1,1,2,3,4,4,6])\n",
        "A = np.repeat(np.arange(len(C)), C)\n",
        "print(A)"
      ]
    },
    {
      "cell_type": "markdown",
      "metadata": {
        "id": "UjaM1ctw0Ml0"
      },
      "source": [
        "#### 75. How to compute averages using a sliding window over an array? (★★★) \n",
        "(**hint**: np.cumsum)"
      ]
    },
    {
      "cell_type": "code",
      "execution_count": null,
      "metadata": {
        "id": "CHIuuvuP0Ml1",
        "colab": {
          "base_uri": "https://localhost:8080/"
        },
        "outputId": "17f8c9aa-9cb5-4f48-b0d3-2b04cfd5931e"
      },
      "outputs": [
        {
          "output_type": "stream",
          "name": "stdout",
          "text": [
            "[ 1.  2.  3.  4.  5.  6.  7.  8.  9. 10. 11. 12. 13. 14. 15. 16. 17. 18.]\n"
          ]
        }
      ],
      "source": [
        "def moving_average(a, n=3) :\n",
        "    ret = np.cumsum(a, dtype=float)\n",
        "    ret[n:] = ret[n:] - ret[:-n]\n",
        "    return ret[n - 1:] / n\n",
        "Z = np.arange(20)\n",
        "print(moving_average(Z, n=3))"
      ]
    },
    {
      "cell_type": "markdown",
      "metadata": {
        "id": "6pe4x1iz0Ml1"
      },
      "source": [
        "#### 76. Consider a one-dimensional array Z, build a two-dimensional array whose first row is (Z\\[0\\],Z\\[1\\],Z\\[2\\]) and each subsequent row is  shifted by 1 (last row should be (Z\\[-3\\],Z\\[-2\\],Z\\[-1\\]) (★★★) \n",
        "(**hint**: from numpy.lib import stride_tricks)"
      ]
    },
    {
      "cell_type": "code",
      "execution_count": null,
      "metadata": {
        "id": "QAY_BI3E0Ml1",
        "colab": {
          "base_uri": "https://localhost:8080/"
        },
        "outputId": "a42635f0-61c0-49d0-e805-e6b0ace2c3bf"
      },
      "outputs": [
        {
          "output_type": "stream",
          "name": "stdout",
          "text": [
            "[[0 1 2]\n",
            " [1 2 3]\n",
            " [2 3 4]\n",
            " [3 4 5]\n",
            " [4 5 6]\n",
            " [5 6 7]\n",
            " [6 7 8]\n",
            " [7 8 9]]\n"
          ]
        }
      ],
      "source": [
        "\n",
        "def rolling(a, window):\n",
        "    shape = (a.size - window + 1, window)\n",
        "    strides = (a.itemsize, a.itemsize)\n",
        "    return np.lib.stride_tricks.as_strided(a, shape=shape, strides=strides)\n",
        "Z = rolling(np.arange(10), 3)\n",
        "print(Z)"
      ]
    },
    {
      "cell_type": "markdown",
      "metadata": {
        "id": "K_p1xNoR0Ml2"
      },
      "source": [
        "#### 77. How to negate a boolean, or to change the sign of a float inplace? (★★★) \n",
        "(**hint**: np.logical_not, np.negative)"
      ]
    },
    {
      "cell_type": "code",
      "execution_count": null,
      "metadata": {
        "id": "jyVZVK9g0Ml2",
        "colab": {
          "base_uri": "https://localhost:8080/"
        },
        "outputId": "e845651a-2fc5-4f76-f9d7-d26ac0e22042"
      },
      "outputs": [
        {
          "output_type": "stream",
          "name": "stdout",
          "text": [
            "original: \n",
            "[1 0 0 1 1 0 1 0 1 1 0 1 1 0 0 0 1 1 1 0 0 1 0 0 1 0 0 1 0 0 0 0 0 1 0 1 0\n",
            " 0 0 1 0 0 0 1 1 1 1 0 0 1 0 1 1 1 0 0 1 0 0 0 1 0 0 1 0 0 0 0 1 0 0 0 1 0\n",
            " 0 0 1 1 0 1 1 0 0 1 0 0 0 0 1 1 1 1 0 0 1 1 1 0 0 1]\n",
            "Negating a boolean: \n",
            "[0 1 1 0 0 1 0 1 0 0 1 0 0 1 1 1 0 0 0 1 1 0 1 1 0 1 1 0 1 1 1 1 1 0 1 0 1\n",
            " 1 1 0 1 1 1 0 0 0 0 1 1 0 1 0 0 0 1 1 0 1 1 1 0 1 1 0 1 1 1 1 0 1 1 1 0 1\n",
            " 1 1 0 0 1 0 0 1 1 0 1 1 1 1 0 0 0 0 1 1 0 0 0 1 1 0]\n",
            "original: \n",
            "[-0.80423709 -0.34980901  0.20707725  0.56900632 -0.16510448  0.53311815\n",
            " -0.98041511 -0.92232444  0.55950801 -0.5618451 ]\n",
            "Change the sign of float inplace: \n",
            "[ 0.80423709  0.34980901 -0.20707725 -0.56900632  0.16510448 -0.53311815\n",
            "  0.98041511  0.92232444 -0.55950801  0.5618451 ]\n"
          ]
        }
      ],
      "source": [
        "Z = np.random.randint(0,2,100)\n",
        "print ('original: ')\n",
        "print (Z)\n",
        "print('Negating a boolean: ')\n",
        "print(np.logical_not(Z, out=Z))\n",
        "\n",
        "\n",
        "Z = np.random.uniform(-1.0,1.0,10)\n",
        "print ('original: ')\n",
        "print (Z)\n",
        "print ('Change the sign of float inplace: ')\n",
        "print(np.negative(Z, out=Z))"
      ]
    },
    {
      "cell_type": "markdown",
      "metadata": {
        "id": "MOy9qLz_0Ml2"
      },
      "source": [
        "#### 78. Consider 2 sets of points P0,P1 describing lines (2d) and a point p, how to compute distance from p to each line i  (P0\\[i\\],P1\\[i\\])? (★★★)"
      ]
    },
    {
      "cell_type": "code",
      "execution_count": null,
      "metadata": {
        "id": "1YlYX0uU0Ml3",
        "colab": {
          "base_uri": "https://localhost:8080/"
        },
        "outputId": "b21bd3b0-b851-4da7-d28d-446986490489"
      },
      "outputs": [
        {
          "output_type": "stream",
          "name": "stdout",
          "text": [
            "[ 3.38735206  6.29341161  0.71521666 11.53512552  2.61559245 12.38095205\n",
            "  3.63123665  7.71860891  4.92270983  7.43475844]\n"
          ]
        }
      ],
      "source": [
        "\n",
        "def distance(P0, P1, p):\n",
        "    T = P1 - P0\n",
        "    L = (T**2).sum(axis=1)\n",
        "    U = -((P0[:,0]-p[...,0])*T[:,0] + (P0[:,1]-p[...,1])*T[:,1]) / L\n",
        "    U = U.reshape(len(U),1)\n",
        "    D = P0 + U*T - p\n",
        "    return np.sqrt((D**2).sum(axis=1))\n",
        "\n",
        "P0 = np.random.uniform(-10,10,(10,2))\n",
        "P1 = np.random.uniform(-10,10,(10,2))\n",
        "p  = np.random.uniform(-10,10,( 1,2))\n",
        "print(distance(P0, P1, p))"
      ]
    },
    {
      "cell_type": "markdown",
      "metadata": {
        "id": "YT7tJ4k80Ml3"
      },
      "source": [
        "#### 79. Consider 2 sets of points P0,P1 describing lines (2d) and a set of points P, how to compute distance from each point j (P\\[j\\]) to each line i (P0\\[i\\],P1\\[i\\])? (★★★)"
      ]
    },
    {
      "cell_type": "code",
      "execution_count": null,
      "metadata": {
        "id": "aazOFamv0Ml4",
        "colab": {
          "base_uri": "https://localhost:8080/"
        },
        "outputId": "79efb0c5-be00-4939-e396-32bc03c7b1b7"
      },
      "outputs": [
        {
          "output_type": "stream",
          "name": "stdout",
          "text": [
            "[[ 5.96663455  4.27917588  8.60681535  4.94044985  2.19039286]\n",
            " [ 2.81918605  8.05151276 10.17286715  2.86057428  0.22540031]\n",
            " [ 8.20072561  2.62927345 14.35893277  1.55180512  3.79253951]\n",
            " [ 2.58062523 12.31826364  1.86723432  2.90732945 12.68388771]\n",
            " [ 1.34055188  8.48930497  1.99680637  5.06387415  8.88139864]]\n"
          ]
        }
      ],
      "source": [
        "P0 = np.random.uniform(-10, 10, (5,2))\n",
        "P1 = np.random.uniform(-10,10,(5,2))\n",
        "p = np.random.uniform(-10, 10, (5,2))\n",
        "print (np.array([distance(P0,P1,p_i) for p_i in p]))"
      ]
    },
    {
      "cell_type": "markdown",
      "metadata": {
        "id": "qj1eofOl0Ml4"
      },
      "source": [
        "#### 80. Consider an arbitrary array, write a function that extract a subpart with a fixed shape and centered on a given element (pad with a `fill` value when necessary) (★★★) \n",
        "(**hint**: minimum, maximum)"
      ]
    },
    {
      "cell_type": "code",
      "execution_count": null,
      "metadata": {
        "id": "R-yhiL3o0Ml5",
        "colab": {
          "base_uri": "https://localhost:8080/"
        },
        "outputId": "aa025a12-d93a-4b26-b476-3875fe47fad7"
      },
      "outputs": [
        {
          "output_type": "stream",
          "name": "stdout",
          "text": [
            "[[8 0 9 8 2 0 5 9 9 2]\n",
            " [5 8 8 2 6 2 3 8 5 1]\n",
            " [1 0 8 7 0 4 7 7 7 3]\n",
            " [1 6 0 8 3 4 5 7 4 7]\n",
            " [3 6 8 5 3 0 1 2 4 0]\n",
            " [6 1 5 4 7 3 1 0 8 2]\n",
            " [1 7 2 3 6 5 3 6 8 1]\n",
            " [4 5 1 9 3 4 6 9 7 4]\n",
            " [1 5 2 7 9 0 4 8 5 0]\n",
            " [8 2 3 5 5 7 9 4 1 3]]\n",
            "[[0 0 0 0 0]\n",
            " [0 8 0 9 8]\n",
            " [0 5 8 8 2]\n",
            " [0 1 0 8 7]\n",
            " [0 1 6 0 8]]\n"
          ]
        },
        {
          "output_type": "stream",
          "name": "stderr",
          "text": [
            "/usr/local/lib/python3.7/dist-packages/ipykernel_launcher.py:23: FutureWarning: Using a non-tuple sequence for multidimensional indexing is deprecated; use `arr[tuple(seq)]` instead of `arr[seq]`. In the future this will be interpreted as an array index, `arr[np.array(seq)]`, which will result either in an error or a different result.\n"
          ]
        }
      ],
      "source": [
        "Z = np.random.randint(0,10,(10,10))\n",
        "shape = (5,5)\n",
        "fill  = 0\n",
        "position = (1,1)\n",
        "\n",
        "R = np.ones(shape, dtype=Z.dtype)*fill\n",
        "P  = np.array(list(position)).astype(int)\n",
        "Rs = np.array(list(R.shape)).astype(int)\n",
        "Zs = np.array(list(Z.shape)).astype(int)\n",
        "\n",
        "R_start = np.zeros((len(shape),)).astype(int)\n",
        "R_stop  = np.array(list(shape)).astype(int)\n",
        "Z_start = (P-Rs//2)\n",
        "Z_stop  = (P+Rs//2)+Rs%2\n",
        "\n",
        "R_start = (R_start - np.minimum(Z_start,0)).tolist()\n",
        "Z_start = (np.maximum(Z_start,0)).tolist()\n",
        "R_stop = np.maximum(R_start, (R_stop - np.maximum(Z_stop-Zs,0))).tolist()\n",
        "Z_stop = (np.minimum(Z_stop,Zs)).tolist()\n",
        "\n",
        "r = [slice(start,stop) for start,stop in zip(R_start,R_stop)]\n",
        "z = [slice(start,stop) for start,stop in zip(Z_start,Z_stop)]\n",
        "R[r] = Z[z]\n",
        "print(Z)\n",
        "print(R)"
      ]
    },
    {
      "cell_type": "markdown",
      "metadata": {
        "id": "hfDNPgha0Ml6"
      },
      "source": [
        "#### 81. Consider an array Z = \\[1,2,3,4,5,6,7,8,9,10,11,12,13,14\\], how to generate an array R = \\[\\[1,2,3,4\\], \\[2,3,4,5\\], \\[3,4,5,6\\], ..., \\[11,12,13,14\\]\\]? (★★★) \n",
        "(**hint**: stride\\_tricks.as\\_strided)"
      ]
    },
    {
      "cell_type": "code",
      "execution_count": null,
      "metadata": {
        "id": "PBPOAhAC0Ml6",
        "colab": {
          "base_uri": "https://localhost:8080/"
        },
        "outputId": "2328060d-ede5-46d3-e38e-708d8f340b51"
      },
      "outputs": [
        {
          "output_type": "stream",
          "name": "stdout",
          "text": [
            "original: \n",
            "[ 1  2  3  4  5  6  7  8  9 10 11 12 13 14]\n",
            "after strides: \n",
            "[[ 1  2  3  4]\n",
            " [ 2  3  4  5]\n",
            " [ 3  4  5  6]\n",
            " [ 4  5  6  7]\n",
            " [ 5  6  7  8]\n",
            " [ 6  7  8  9]\n",
            " [ 7  8  9 10]\n",
            " [ 8  9 10 11]\n",
            " [ 9 10 11 12]\n",
            " [10 11 12 13]\n",
            " [11 12 13 14]]\n"
          ]
        }
      ],
      "source": [
        "\n",
        "Z = np.arange(1,15,dtype=int)\n",
        "\n",
        "def rolling(a, window):\n",
        "    shape = (a.size - window + 1, window)\n",
        "    strides = (a.itemsize, a.itemsize)\n",
        "    return np.lib.stride_tricks.as_strided(a, shape=shape, strides=strides)\n",
        "R = rolling(Z, 4)\n",
        "print ('original: ')\n",
        "print (Z)\n",
        "print ('after strides: ')\n",
        "print(R)"
      ]
    },
    {
      "cell_type": "markdown",
      "metadata": {
        "id": "3PXk76FY0Ml7"
      },
      "source": [
        "#### 82. Compute a matrix rank (★★★) \n",
        "(**hint**: np.linalg.svd) (suggestion: np.linalg.svd)"
      ]
    },
    {
      "cell_type": "code",
      "execution_count": null,
      "metadata": {
        "id": "LbT35E1n0Ml9",
        "colab": {
          "base_uri": "https://localhost:8080/"
        },
        "outputId": "fb0723c6-c948-49e0-a65e-9b3d220e48ec"
      },
      "outputs": [
        {
          "output_type": "stream",
          "name": "stdout",
          "text": [
            "10\n"
          ]
        }
      ],
      "source": [
        "Z = np.random.uniform(0,1,(10,10))\n",
        "U, S, V = np.linalg.svd(Z) # Singular Value Decomposition\n",
        "rank = np.sum(S > 1e-10)\n",
        "print (rank)"
      ]
    },
    {
      "cell_type": "markdown",
      "metadata": {
        "id": "jL2buhy30Ml9"
      },
      "source": [
        "#### 83. How to find the most frequent value in an array? \n",
        "(**hint**: np.bincount, argmax)"
      ]
    },
    {
      "cell_type": "code",
      "execution_count": null,
      "metadata": {
        "id": "CHDC2W-d0Ml9",
        "colab": {
          "base_uri": "https://localhost:8080/"
        },
        "outputId": "993e1ae7-8f67-47a9-efd0-f401b61f05f6"
      },
      "outputs": [
        {
          "output_type": "stream",
          "name": "stdout",
          "text": [
            "[1 4 5 4 4 9 7 9 6 3 1 7 2 0 0 9 1 9 8 4 4 2 9 7 8 5 6 5 5 1 5 8 4 9 7 3 0\n",
            " 7 7 6 3 9 1 0 1 1 3 1 0 9]\n",
            "rank: 1\n"
          ]
        }
      ],
      "source": [
        "Z = np.random.randint(0,10,50)\n",
        "print (Z)\n",
        "print('rank:', np.bincount(Z).argmax())"
      ]
    },
    {
      "cell_type": "markdown",
      "metadata": {
        "id": "81pHfy700Ml9"
      },
      "source": [
        "#### 84. Extract all the contiguous 3x3 blocks from a random 10x10 matrix (★★★) \n",
        "(**hint**: stride\\_tricks.as\\_strided)"
      ]
    },
    {
      "cell_type": "code",
      "execution_count": null,
      "metadata": {
        "id": "RfB8thpD0Ml-",
        "colab": {
          "base_uri": "https://localhost:8080/"
        },
        "outputId": "1119a655-250e-4b7b-f214-880030e8fecb"
      },
      "outputs": [
        {
          "output_type": "stream",
          "name": "stdout",
          "text": [
            "[[[[2 0 4]\n",
            "   [4 1 1]\n",
            "   [4 3 4]]\n",
            "\n",
            "  [[0 4 4]\n",
            "   [1 1 3]\n",
            "   [3 4 0]]\n",
            "\n",
            "  [[4 4 0]\n",
            "   [1 3 4]\n",
            "   [4 0 3]]\n",
            "\n",
            "  [[4 0 2]\n",
            "   [3 4 1]\n",
            "   [0 3 1]]]\n",
            "\n",
            "\n",
            " [[[4 1 1]\n",
            "   [4 3 4]\n",
            "   [3 0 1]]\n",
            "\n",
            "  [[1 1 3]\n",
            "   [3 4 0]\n",
            "   [0 1 2]]\n",
            "\n",
            "  [[1 3 4]\n",
            "   [4 0 3]\n",
            "   [1 2 1]]\n",
            "\n",
            "  [[3 4 1]\n",
            "   [0 3 1]\n",
            "   [2 1 1]]]\n",
            "\n",
            "\n",
            " [[[4 3 4]\n",
            "   [3 0 1]\n",
            "   [3 3 3]]\n",
            "\n",
            "  [[3 4 0]\n",
            "   [0 1 2]\n",
            "   [3 3 1]]\n",
            "\n",
            "  [[4 0 3]\n",
            "   [1 2 1]\n",
            "   [3 1 2]]\n",
            "\n",
            "  [[0 3 1]\n",
            "   [2 1 1]\n",
            "   [1 2 3]]]\n",
            "\n",
            "\n",
            " [[[3 0 1]\n",
            "   [3 3 3]\n",
            "   [3 2 3]]\n",
            "\n",
            "  [[0 1 2]\n",
            "   [3 3 1]\n",
            "   [2 3 3]]\n",
            "\n",
            "  [[1 2 1]\n",
            "   [3 1 2]\n",
            "   [3 3 1]]\n",
            "\n",
            "  [[2 1 1]\n",
            "   [1 2 3]\n",
            "   [3 1 2]]]]\n"
          ]
        }
      ],
      "source": [
        "Z = np.random.randint(0,5,(6,6))\n",
        "n = 3\n",
        "i = 1 + (Z.shape[0]-3)\n",
        "j = 1 + (Z.shape[1]-3)\n",
        "C = np.lib.stride_tricks.as_strided(Z, shape=(i, j, n, n), strides=Z.strides + Z.strides)\n",
        "print(C)"
      ]
    },
    {
      "cell_type": "markdown",
      "metadata": {
        "id": "bW3Sx6yn0Ml-"
      },
      "source": [
        "#### 85. Create a 2D array subclass such that Z\\[i,j\\] == Z\\[j,i\\] (★★★) \n",
        "(**hint**: class method)"
      ]
    },
    {
      "cell_type": "code",
      "execution_count": null,
      "metadata": {
        "id": "bz5NU6Z20Ml-",
        "colab": {
          "base_uri": "https://localhost:8080/",
          "height": 130
        },
        "outputId": "87dd7f6c-d342-4312-f60a-d4d7f5891fd7"
      },
      "outputs": [
        {
          "output_type": "error",
          "ename": "SyntaxError",
          "evalue": "ignored",
          "traceback": [
            "\u001b[0;36m  File \u001b[0;32m\"<ipython-input-22-585069d5883f>\"\u001b[0;36m, line \u001b[0;32m2\u001b[0m\n\u001b[0;31m    def __setitem__(self (i,j), value):\u001b[0m\n\u001b[0m                         ^\u001b[0m\n\u001b[0;31mSyntaxError\u001b[0m\u001b[0;31m:\u001b[0m invalid syntax\n"
          ]
        }
      ],
      "source": [
        "class Symetric(np.ndarray):\n",
        "    def __setitem__(self (i,j), value):\n",
        "        super(Symetric, self).__setitem__((i,j), value)\n",
        "        super(Symetric, self).__setitem__((j,i), value)\n",
        "\n",
        "def symetric(Z):\n",
        "    return np.asarray(Z + Z.T - np.diag(Z.diagonal())).view(Symetric)\n",
        "\n",
        "S = symetric(np.random.randint(0,10,(5,5)))\n",
        "S[2,3] = 42\n",
        "print(S)"
      ]
    },
    {
      "cell_type": "markdown",
      "metadata": {
        "id": "l9z16K0D0Ml-"
      },
      "source": [
        "#### 86. Consider a set of p matrices wich shape (n,n) and a set of p vectors with shape (n,1). How to compute the sum of of the p matrix products at once? (result has shape (n,1)) (★★★) \n",
        "(**hint**: np.tensordot)"
      ]
    },
    {
      "cell_type": "code",
      "execution_count": null,
      "metadata": {
        "id": "EHIimGhu0Ml-",
        "colab": {
          "base_uri": "https://localhost:8080/"
        },
        "outputId": "3a9f3ece-7bad-46fd-f8fa-75328f6ba083"
      },
      "outputs": [
        {
          "output_type": "stream",
          "name": "stdout",
          "text": [
            "[[200.]\n",
            " [200.]\n",
            " [200.]\n",
            " [200.]\n",
            " [200.]\n",
            " [200.]\n",
            " [200.]\n",
            " [200.]\n",
            " [200.]\n",
            " [200.]\n",
            " [200.]\n",
            " [200.]\n",
            " [200.]\n",
            " [200.]\n",
            " [200.]\n",
            " [200.]\n",
            " [200.]\n",
            " [200.]\n",
            " [200.]\n",
            " [200.]]\n"
          ]
        }
      ],
      "source": [
        "\n",
        "p, n = 10, 20\n",
        "M = np.ones((p,n,n))\n",
        "V = np.ones((p,n,1))\n",
        "S = np.tensordot(M, V, axes=[[0, 2], [0, 1]])\n",
        "print(S)\n",
        "\n",
        "# It works, because:\n",
        "# M is (p,n,n)\n",
        "# V is (p,n,1)\n",
        "# Thus, summing over the paired axes 0 and 0 (of M and V independently),\n",
        "# and 2 and 1, to remain with a (n,1) vector."
      ]
    },
    {
      "cell_type": "markdown",
      "metadata": {
        "id": "e7bLcfwo0Ml-"
      },
      "source": [
        "#### 87. Consider a 16x16 array, how to get the block-sum (block size is 4x4)? (★★★) \n",
        "(**hint**: np.add.reduceat)"
      ]
    },
    {
      "cell_type": "code",
      "execution_count": null,
      "metadata": {
        "id": "WlRj9gMU0Ml_",
        "colab": {
          "base_uri": "https://localhost:8080/"
        },
        "outputId": "f32dce79-0895-4a18-c4ee-5dd5df22751e"
      },
      "outputs": [
        {
          "output_type": "stream",
          "name": "stdout",
          "text": [
            "input array\n",
            "[[1. 1. 1. 1. 1. 1. 1. 1. 1. 1. 1. 1. 1. 1. 1. 1.]\n",
            " [1. 1. 1. 1. 1. 1. 1. 1. 1. 1. 1. 1. 1. 1. 1. 1.]\n",
            " [1. 1. 1. 1. 1. 1. 1. 1. 1. 1. 1. 1. 1. 1. 1. 1.]\n",
            " [1. 1. 1. 1. 1. 1. 1. 1. 1. 1. 1. 1. 1. 1. 1. 1.]\n",
            " [1. 1. 1. 1. 1. 1. 1. 1. 1. 1. 1. 1. 1. 1. 1. 1.]\n",
            " [1. 1. 1. 1. 1. 1. 1. 1. 1. 1. 1. 1. 1. 1. 1. 1.]\n",
            " [1. 1. 1. 1. 1. 1. 1. 1. 1. 1. 1. 1. 1. 1. 1. 1.]\n",
            " [1. 1. 1. 1. 1. 1. 1. 1. 1. 1. 1. 1. 1. 1. 1. 1.]\n",
            " [1. 1. 1. 1. 1. 1. 1. 1. 1. 1. 1. 1. 1. 1. 1. 1.]\n",
            " [1. 1. 1. 1. 1. 1. 1. 1. 1. 1. 1. 1. 1. 1. 1. 1.]\n",
            " [1. 1. 1. 1. 1. 1. 1. 1. 1. 1. 1. 1. 1. 1. 1. 1.]\n",
            " [1. 1. 1. 1. 1. 1. 1. 1. 1. 1. 1. 1. 1. 1. 1. 1.]\n",
            " [1. 1. 1. 1. 1. 1. 1. 1. 1. 1. 1. 1. 1. 1. 1. 1.]\n",
            " [1. 1. 1. 1. 1. 1. 1. 1. 1. 1. 1. 1. 1. 1. 1. 1.]\n",
            " [1. 1. 1. 1. 1. 1. 1. 1. 1. 1. 1. 1. 1. 1. 1. 1.]\n",
            " [1. 1. 1. 1. 1. 1. 1. 1. 1. 1. 1. 1. 1. 1. 1. 1.]]\n",
            "block sum\n",
            "[[16. 16. 16. 16.]\n",
            " [16. 16. 16. 16.]\n",
            " [16. 16. 16. 16.]\n",
            " [16. 16. 16. 16.]]\n"
          ]
        }
      ],
      "source": [
        "Z = np.ones((16,16))\n",
        "k = 4\n",
        "S = np.add.reduceat(np.add.reduceat(Z, np.arange(0, Z.shape[0], k), axis=0),\n",
        "                                       np.arange(0, Z.shape[1], k), axis=1)\n",
        "print ('input array')\n",
        "print (Z)\n",
        "print ('block sum')\n",
        "print (S)\n"
      ]
    },
    {
      "cell_type": "markdown",
      "metadata": {
        "id": "okotsStL0Ml_"
      },
      "source": [
        "#### 88. How to implement the Game of Life using numpy arrays? (★★★)"
      ]
    },
    {
      "cell_type": "code",
      "execution_count": null,
      "metadata": {
        "id": "ykJAFerg0Ml_"
      },
      "outputs": [],
      "source": [
        "def iterate(Z):\n",
        "    # Count neighbours\n",
        "    N = (Z[0:-2,0:-2] + Z[0:-2,1:-1] + Z[0:-2,2:] +\n",
        "         Z[1:-1,0:-2]                + Z[1:-1,2:] +\n",
        "         Z[2:  ,0:-2] + Z[2:  ,1:-1] + Z[2:  ,2:])\n",
        "\n",
        "    # Apply rules\n",
        "    birth = (N==3) & (Z[1:-1,1:-1]==0)\n",
        "    survive = ((N==2) | (N==3)) & (Z[1:-1,1:-1]==1)\n",
        "    Z[...] = 0\n",
        "    Z[1:-1,1:-1][birth | survive] = 1\n",
        "    return Z\n",
        "\n",
        "Z = np.random.randint(0,2,(50,50))\n",
        "for i in range(100): Z = iterate(Z)\n"
      ]
    },
    {
      "cell_type": "markdown",
      "metadata": {
        "id": "IYDtMJ8v0Ml_"
      },
      "source": [
        "#### 89. How to get the n largest values of an array (★★★) \n",
        "(**hint**: np.argsort | np.argpartition)"
      ]
    },
    {
      "cell_type": "code",
      "execution_count": null,
      "metadata": {
        "id": "Yv_Ta0rn0Ml_",
        "colab": {
          "base_uri": "https://localhost:8080/"
        },
        "outputId": "88775401-b192-4401-914d-e831ce19748c"
      },
      "outputs": [
        {
          "output_type": "stream",
          "name": "stdout",
          "text": [
            "[9995 9996 9997 9998 9999]\n",
            "[9997 9996 9998 9999 9995]\n"
          ]
        }
      ],
      "source": [
        "Z = np.arange(10000)\n",
        "np.random.shuffle(Z)\n",
        "n = 5\n",
        "\n",
        "# Slow\n",
        "print (Z[np.argsort(Z)[-n:]])\n",
        "\n",
        "# Fast\n",
        "print (Z[np.argpartition(-Z,n)[:n]])"
      ]
    },
    {
      "cell_type": "markdown",
      "metadata": {
        "id": "cuEttI1h0MmA"
      },
      "source": [
        "#### 90. Given an arbitrary number of vectors, build the cartesian product (every combinations of every item) (★★★) \n",
        "(**hint**: np.indices)"
      ]
    },
    {
      "cell_type": "code",
      "execution_count": null,
      "metadata": {
        "scrolled": true,
        "id": "wWGBPMmI0MmA",
        "colab": {
          "base_uri": "https://localhost:8080/"
        },
        "outputId": "f5942ced-3bad-43cd-a09f-6d2188416262"
      },
      "outputs": [
        {
          "output_type": "stream",
          "name": "stdout",
          "text": [
            "[[1 4 6]\n",
            " [1 4 7]\n",
            " [1 5 6]\n",
            " [1 5 7]\n",
            " [2 4 6]\n",
            " [2 4 7]\n",
            " [2 5 6]\n",
            " [2 5 7]\n",
            " [3 4 6]\n",
            " [3 4 7]\n",
            " [3 5 6]\n",
            " [3 5 7]]\n"
          ]
        }
      ],
      "source": [
        "def cartesian(arrays):\n",
        "    arrays = [np.asarray(a) for a in arrays]\n",
        "    shape = (len(x) for x in arrays)\n",
        "\n",
        "    ix = np.indices(shape, dtype=int)\n",
        "    ix = ix.reshape(len(arrays), -1).T\n",
        "\n",
        "    for n, arr in enumerate(arrays):\n",
        "        ix[:, n] = arrays[n][ix[:, n]]\n",
        "\n",
        "    return ix\n",
        "\n",
        "print (cartesian(([1, 2, 3], [4, 5], [6, 7])))"
      ]
    },
    {
      "cell_type": "markdown",
      "metadata": {
        "id": "w9SQeDKN0MmA"
      },
      "source": [
        "#### 91. How to create a record array from a regular array? (★★★) \n",
        "(**hint**: np.core.records.fromarrays)"
      ]
    },
    {
      "cell_type": "code",
      "execution_count": null,
      "metadata": {
        "id": "OhwD_vaa0MmA"
      },
      "outputs": [],
      "source": [
        "Z = np.array([(\"Hello\", 2.5, 3),\n",
        "              (\"World\", 3.6, 2)])\n",
        "R = np.core.records.fromarrays(Z.T,\n",
        "                               names='col1, col2, col3',\n",
        "                               formats = 'S8, f8, i8')"
      ]
    },
    {
      "cell_type": "markdown",
      "metadata": {
        "id": "Dq890zcz0MmB"
      },
      "source": [
        "#### 92. Consider a large vector Z, compute Z to the power of 3 using 3 different methods (★★★) \n",
        "(**hint**: np.power, \\*, np.einsum)"
      ]
    },
    {
      "cell_type": "code",
      "execution_count": null,
      "metadata": {
        "id": "CcKOwhvZ0MmB",
        "colab": {
          "base_uri": "https://localhost:8080/",
          "height": 339
        },
        "outputId": "56b799f3-f866-4d98-bc3b-5d8c2b7c9bf4"
      },
      "outputs": [
        {
          "output_type": "error",
          "ename": "TypeError",
          "evalue": "ignored",
          "traceback": [
            "\u001b[0;31m---------------------------------------------------------------------------\u001b[0m",
            "\u001b[0;31mTypeError\u001b[0m                                 Traceback (most recent call last)",
            "\u001b[0;32m<ipython-input-29-3d232f0722da>\u001b[0m in \u001b[0;36m<module>\u001b[0;34m()\u001b[0m\n\u001b[0;32m----> 1\u001b[0;31m \u001b[0mx\u001b[0m \u001b[0;34m=\u001b[0m \u001b[0mnp\u001b[0m\u001b[0;34m.\u001b[0m\u001b[0mrandom\u001b[0m\u001b[0;34m.\u001b[0m\u001b[0mrand\u001b[0m\u001b[0;34m(\u001b[0m\u001b[0;36m5e7\u001b[0m\u001b[0;34m)\u001b[0m\u001b[0;34m\u001b[0m\u001b[0;34m\u001b[0m\u001b[0m\n\u001b[0m\u001b[1;32m      2\u001b[0m \u001b[0;34m\u001b[0m\u001b[0m\n\u001b[1;32m      3\u001b[0m \u001b[0mget_ipython\u001b[0m\u001b[0;34m(\u001b[0m\u001b[0;34m)\u001b[0m\u001b[0;34m.\u001b[0m\u001b[0mmagic\u001b[0m\u001b[0;34m(\u001b[0m\u001b[0;34m'timeit np.power(x,3)'\u001b[0m\u001b[0;34m)\u001b[0m\u001b[0;34m\u001b[0m\u001b[0;34m\u001b[0m\u001b[0m\n\u001b[1;32m      4\u001b[0m \u001b[0mget_ipython\u001b[0m\u001b[0;34m(\u001b[0m\u001b[0;34m)\u001b[0m\u001b[0;34m.\u001b[0m\u001b[0mmagic\u001b[0m\u001b[0;34m(\u001b[0m\u001b[0;34m'timeit x*x*x'\u001b[0m\u001b[0;34m)\u001b[0m\u001b[0;34m\u001b[0m\u001b[0;34m\u001b[0m\u001b[0m\n\u001b[1;32m      5\u001b[0m \u001b[0mget_ipython\u001b[0m\u001b[0;34m(\u001b[0m\u001b[0;34m)\u001b[0m\u001b[0;34m.\u001b[0m\u001b[0mmagic\u001b[0m\u001b[0;34m(\u001b[0m\u001b[0;34m\"timeit np.einsum('i,i,i->i',x,x,x)\"\u001b[0m\u001b[0;34m)\u001b[0m\u001b[0;34m\u001b[0m\u001b[0;34m\u001b[0m\u001b[0m\n",
            "\u001b[0;32mmtrand.pyx\u001b[0m in \u001b[0;36mnumpy.random.mtrand.RandomState.rand\u001b[0;34m()\u001b[0m\n",
            "\u001b[0;32mmtrand.pyx\u001b[0m in \u001b[0;36mnumpy.random.mtrand.RandomState.random_sample\u001b[0;34m()\u001b[0m\n",
            "\u001b[0;32m_common.pyx\u001b[0m in \u001b[0;36mnumpy.random._common.double_fill\u001b[0;34m()\u001b[0m\n",
            "\u001b[0;31mTypeError\u001b[0m: 'float' object cannot be interpreted as an integer"
          ]
        }
      ],
      "source": [
        "x = np.random.rand(5e7)\n",
        "\n",
        "%timeit np.power(x,3)\n",
        "%timeit x*x*x\n",
        "%timeit np.einsum('i,i,i->i',x,x,x)"
      ]
    },
    {
      "cell_type": "markdown",
      "metadata": {
        "id": "p5mQ6rQ60MmB"
      },
      "source": [
        "#### 93. Consider two arrays A and B of shape (8,3) and (2,2). How to find rows of A that contain elements of each row of B regardless of the order of the elements in B? (★★★) \n",
        "(**hint**: np.where)"
      ]
    },
    {
      "cell_type": "code",
      "execution_count": null,
      "metadata": {
        "id": "llWkZqZl0MmB",
        "colab": {
          "base_uri": "https://localhost:8080/"
        },
        "outputId": "db9a4fa0-4718-4a06-968c-06167cf253f9"
      },
      "outputs": [
        {
          "output_type": "stream",
          "name": "stdout",
          "text": [
            "[0 1 2 3 4 5 6 7]\n"
          ]
        }
      ],
      "source": [
        "# Author: Gabe Schwartz\n",
        "\n",
        "A = np.random.randint(0,5,(8,3))\n",
        "B = np.random.randint(0,5,(2,2))\n",
        "\n",
        "C = (A[..., np.newaxis, np.newaxis] == B)\n",
        "rows = (C.sum(axis=(1,2,3)) >= B.shape[1]).nonzero()[0]\n",
        "print(rows)\n"
      ]
    },
    {
      "cell_type": "markdown",
      "metadata": {
        "id": "hJWQ-L3A0MmB"
      },
      "source": [
        "#### 94. Considering a 10x3 matrix, extract rows with unequal values (e.g. \\[2,2,3\\]) (★★★)"
      ]
    },
    {
      "cell_type": "code",
      "execution_count": null,
      "metadata": {
        "id": "_L14liTX0MmB",
        "colab": {
          "base_uri": "https://localhost:8080/"
        },
        "outputId": "2edafdd2-7642-47ce-9f95-2b5426500987"
      },
      "outputs": [
        {
          "output_type": "stream",
          "name": "stdout",
          "text": [
            "[[1 1 1]\n",
            " [0 4 0]\n",
            " [0 4 3]\n",
            " [1 4 1]\n",
            " [2 4 0]\n",
            " [3 4 2]\n",
            " [1 0 2]\n",
            " [1 0 1]\n",
            " [0 0 1]\n",
            " [0 0 2]]\n",
            "[[0 4 0]\n",
            " [0 4 3]\n",
            " [1 4 1]\n",
            " [2 4 0]\n",
            " [3 4 2]\n",
            " [1 0 2]\n",
            " [1 0 1]\n",
            " [0 0 1]\n",
            " [0 0 2]]\n"
          ]
        }
      ],
      "source": [
        "# Author: Robert Kern\n",
        "\n",
        "Z = np.random.randint(0,5,(10,3))\n",
        "E = np.logical_and.reduce(Z[:,1:] == Z[:,:-1], axis=1)\n",
        "U = Z[~E]\n",
        "print(Z)\n",
        "print(U)"
      ]
    },
    {
      "cell_type": "markdown",
      "metadata": {
        "id": "t-NLJ7wH0MmB"
      },
      "source": [
        "#### 95. Convert a vector of ints into a matrix binary representation (★★★) \n",
        "(**hint**: np.unpackbits)"
      ]
    },
    {
      "cell_type": "code",
      "execution_count": null,
      "metadata": {
        "id": "_2g2wFFo0MmC",
        "colab": {
          "base_uri": "https://localhost:8080/"
        },
        "outputId": "b281f38f-a012-417a-a65d-f72694f2f75a"
      },
      "outputs": [
        {
          "output_type": "stream",
          "name": "stdout",
          "text": [
            "[[0 0 0 0 0 0 0 0]\n",
            " [0 0 0 0 0 0 0 1]\n",
            " [0 0 0 0 0 0 1 0]\n",
            " [0 0 0 0 0 0 1 1]\n",
            " [0 0 0 0 1 1 1 1]\n",
            " [0 0 0 1 0 0 0 0]\n",
            " [0 0 1 0 0 0 0 0]\n",
            " [0 1 0 0 0 0 0 0]\n",
            " [1 0 0 0 0 0 0 0]]\n",
            "[[0 0 0 0 0 0 0 0]\n",
            " [0 0 0 0 0 0 0 1]\n",
            " [0 0 0 0 0 0 1 0]\n",
            " [0 0 0 0 0 0 1 1]\n",
            " [0 0 0 0 1 1 1 1]\n",
            " [0 0 0 1 0 0 0 0]\n",
            " [0 0 1 0 0 0 0 0]\n",
            " [0 1 0 0 0 0 0 0]\n",
            " [1 0 0 0 0 0 0 0]]\n"
          ]
        }
      ],
      "source": [
        "# Author: Warren Weckesser\n",
        "\n",
        "I = np.array([0, 1, 2, 3, 15, 16, 32, 64, 128])\n",
        "B = ((I.reshape(-1,1) & (2**np.arange(8))) != 0).astype(int)\n",
        "print(B[:,::-1])\n",
        "\n",
        "# Author: Daniel T. McDonald\n",
        "\n",
        "I = np.array([0, 1, 2, 3, 15, 16, 32, 64, 128], dtype=np.uint8)\n",
        "print(np.unpackbits(I[:, np.newaxis], axis=1))"
      ]
    },
    {
      "cell_type": "markdown",
      "metadata": {
        "id": "SX15XXQU0MmC"
      },
      "source": [
        "#### 96. Given a two dimensional array, how to extract unique rows? (★★★) \n",
        "(**hint**: np.ascontiguousarray)"
      ]
    },
    {
      "cell_type": "code",
      "execution_count": null,
      "metadata": {
        "id": "9H5YFcxJ0MmC",
        "colab": {
          "base_uri": "https://localhost:8080/"
        },
        "outputId": "e9de616a-951f-4fd7-9484-fcc0cbc52147"
      },
      "outputs": [
        {
          "output_type": "stream",
          "name": "stdout",
          "text": [
            "[[0 0 0]\n",
            " [0 1 0]\n",
            " [1 0 0]\n",
            " [1 1 0]]\n"
          ]
        }
      ],
      "source": [
        "# Author: Jaime Fernández del Río\n",
        "\n",
        "Z = np.random.randint(0,2,(6,3))\n",
        "T = np.ascontiguousarray(Z).view(np.dtype((np.void, Z.dtype.itemsize * Z.shape[1])))\n",
        "_, idx = np.unique(T, return_index=True)\n",
        "uZ = Z[idx]\n",
        "print(uZ)"
      ]
    },
    {
      "cell_type": "markdown",
      "metadata": {
        "id": "t0hkx9LU0MmC"
      },
      "source": [
        "#### 97. Considering 2 vectors A & B, write the einsum equivalent of inner, outer, sum, and mul function (★★★) \n",
        "(**hint**: np.einsum)"
      ]
    },
    {
      "cell_type": "code",
      "execution_count": null,
      "metadata": {
        "id": "bLO2EpDS0MmC",
        "colab": {
          "base_uri": "https://localhost:8080/"
        },
        "outputId": "8b8abe11-141e-4c93-9e36-ad19b8640033"
      },
      "outputs": [
        {
          "output_type": "stream",
          "name": "stdout",
          "text": [
            "[0 1 2]\n"
          ]
        }
      ],
      "source": [
        "# Author: Alex Riley\n",
        "# Make sure to read: http://ajcr.net/Basic-guide-to-einsum/\n",
        "\n",
        "A= np.arange(3)\n",
        "B =  np.arange(12).reshape(3,4)\n",
        "print (A)\n",
        "#np.einsum('ii->', A)       # np.sum(A)\n",
        "#np.einsum('i,i->i', A, B) # A * B\n",
        "#np.einsum('i,i', A, B)    # np.inner(A, B)\n",
        "#np.einsum('...i,j', A, B)    # np.outer(A, B)"
      ]
    },
    {
      "cell_type": "markdown",
      "metadata": {
        "id": "G9E48Y9R0MmC"
      },
      "source": [
        "#### 98. Considering a path described by two vectors (X,Y), how to sample it using equidistant samples (★★★)? \n",
        "(**hint**: np.cumsum, np.interp)"
      ]
    },
    {
      "cell_type": "code",
      "execution_count": null,
      "metadata": {
        "collapsed": true,
        "id": "ZGk6lCa10MmC"
      },
      "outputs": [],
      "source": [
        "# Author: Bas Swinckels\n",
        "\n",
        "phi = np.arange(0, 10*np.pi, 0.1)\n",
        "a = 1\n",
        "x = a*phi*np.cos(phi)\n",
        "y = a*phi*np.sin(phi)\n",
        "\n",
        "dr = (np.diff(x)**2 + np.diff(y)**2)**.5 # segment lengths\n",
        "r = np.zeros_like(x)\n",
        "r[1:] = np.cumsum(dr)                # integrate path\n",
        "r_int = np.linspace(0, r.max(), 200) # regular spaced path\n",
        "x_int = np.interp(r_int, r, x)       # integrate path\n",
        "y_int = np.interp(r_int, r, y)"
      ]
    },
    {
      "cell_type": "markdown",
      "metadata": {
        "id": "kaGnRiAo0MmD"
      },
      "source": [
        "#### 99. Given an integer n and a 2D array X, select from X the rows which can be interpreted as draws from a multinomial distribution with n degrees, i.e., the rows which only contain integers and which sum to n. (★★★) \n",
        "(**hint**: np.logical\\_and.reduce, np.mod)"
      ]
    },
    {
      "cell_type": "code",
      "execution_count": null,
      "metadata": {
        "id": "tkIO5G3d0MmD"
      },
      "outputs": [],
      "source": [
        ""
      ]
    },
    {
      "cell_type": "markdown",
      "metadata": {
        "id": "IgnsIpNW0MmD"
      },
      "source": [
        "#### 100. Compute bootstrapped 95% confidence intervals for the mean of a 1D array X (i.e., resample the elements of an array with replacement N times, compute the mean of each sample, and then compute percentiles over the means). (★★★) \n",
        "(**hint**: np.percentile)"
      ]
    },
    {
      "cell_type": "code",
      "execution_count": null,
      "metadata": {
        "id": "su_ZID5d0MmD"
      },
      "outputs": [],
      "source": [
        ""
      ]
    }
  ],
  "metadata": {
    "kernelspec": {
      "display_name": "Python 3",
      "language": "python",
      "name": "python3"
    },
    "language_info": {
      "codemirror_mode": {
        "name": "ipython",
        "version": 3
      },
      "file_extension": ".py",
      "mimetype": "text/x-python",
      "name": "python",
      "nbconvert_exporter": "python",
      "pygments_lexer": "ipython3",
      "version": "3.8.3"
    },
    "colab": {
      "name": "Copy of Numpy_tasks.ipynb",
      "provenance": [],
      "collapsed_sections": [
        "-EldckFz0Mlb",
        "RirhJhHR0Mlc",
        "ioiOG3ZD0Mld",
        "_jc1MWOk0Mle",
        "HoH5KKqe0Mlf",
        "0ghUUnR00Mlf",
        "wO3pAX8l0Mlk",
        "gaY4iQ0c0Mlm",
        "p8_gNi2l0Mln",
        "-n3ujPYR0Mln",
        "6ocpsUlE0Mln",
        "rAHL8xd50Mlo",
        "EiXKTre30Mlo",
        "XxjFZeWq0Mlo",
        "8dNg0INW0Mlo",
        "9H7qsKux0Mlp",
        "PhzT3dVt0Mlp",
        "aQcZh7JY0Mlq",
        "c1Z2E7n10Mls",
        "IgnsIpNW0MmD"
      ],
      "include_colab_link": true
    }
  },
  "nbformat": 4,
  "nbformat_minor": 0
}